{
 "cells": [
  {
   "cell_type": "markdown",
   "metadata": {},
   "source": [
    "### Repository - http://db.csail.mit.edu/labdata/labdata.html\n",
    "\n"
   ]
  },
  {
   "cell_type": "markdown",
   "metadata": {},
   "source": [
    "## Analysis of sensor readings from sensors deployed in Intel Berkley Research lab"
   ]
  },
  {
   "cell_type": "code",
   "execution_count": 1,
   "metadata": {
    "collapsed": true
   },
   "outputs": [],
   "source": [
    "# imports\n",
    "import pandas as pd\n",
    "import numpy as np\n",
    "import matplotlib.pyplot as plt\n",
    "import seaborn as sns\n",
    "import os"
   ]
  },
  {
   "cell_type": "code",
   "execution_count": 18,
   "metadata": {
    "collapsed": true
   },
   "outputs": [],
   "source": [
    "color = sns.color_palette()\n",
    "%matplotlib inline"
   ]
  },
  {
   "cell_type": "code",
   "execution_count": 11,
   "metadata": {},
   "outputs": [
    {
     "data": {
      "text/plain": [
       "['connectivity.txt', 'data.txt', 'mote_locs.txt']"
      ]
     },
     "execution_count": 11,
     "metadata": {},
     "output_type": "execute_result"
    }
   ],
   "source": [
    "os.chdir('A:\\Python\\Site1001\\Sensor-input')\n",
    "\n",
    "os.listdir()"
   ]
  },
  {
   "cell_type": "code",
   "execution_count": 123,
   "metadata": {
    "collapsed": true
   },
   "outputs": [],
   "source": [
    "data = pd.read_csv('data.txt',header = None,sep = \" \")"
   ]
  },
  {
   "cell_type": "code",
   "execution_count": 10,
   "metadata": {},
   "outputs": [
    {
     "data": {
      "text/html": [
       "<div>\n",
       "<style>\n",
       "    .dataframe thead tr:only-child th {\n",
       "        text-align: right;\n",
       "    }\n",
       "\n",
       "    .dataframe thead th {\n",
       "        text-align: left;\n",
       "    }\n",
       "\n",
       "    .dataframe tbody tr th {\n",
       "        vertical-align: top;\n",
       "    }\n",
       "</style>\n",
       "<table border=\"1\" class=\"dataframe\">\n",
       "  <thead>\n",
       "    <tr style=\"text-align: right;\">\n",
       "      <th></th>\n",
       "      <th>0</th>\n",
       "      <th>1</th>\n",
       "      <th>2</th>\n",
       "      <th>3</th>\n",
       "      <th>4</th>\n",
       "      <th>5</th>\n",
       "      <th>6</th>\n",
       "      <th>7</th>\n",
       "    </tr>\n",
       "  </thead>\n",
       "  <tbody>\n",
       "    <tr>\n",
       "      <th>0</th>\n",
       "      <td>2004-03-31</td>\n",
       "      <td>03:38:15.757551</td>\n",
       "      <td>2</td>\n",
       "      <td>1.0</td>\n",
       "      <td>122.1530</td>\n",
       "      <td>-3.91901</td>\n",
       "      <td>11.04</td>\n",
       "      <td>2.03397</td>\n",
       "    </tr>\n",
       "    <tr>\n",
       "      <th>1</th>\n",
       "      <td>2004-02-28</td>\n",
       "      <td>00:59:16.02785</td>\n",
       "      <td>3</td>\n",
       "      <td>1.0</td>\n",
       "      <td>19.9884</td>\n",
       "      <td>37.09330</td>\n",
       "      <td>45.08</td>\n",
       "      <td>2.69964</td>\n",
       "    </tr>\n",
       "    <tr>\n",
       "      <th>2</th>\n",
       "      <td>2004-02-28</td>\n",
       "      <td>01:03:16.33393</td>\n",
       "      <td>11</td>\n",
       "      <td>1.0</td>\n",
       "      <td>19.3024</td>\n",
       "      <td>38.46290</td>\n",
       "      <td>45.08</td>\n",
       "      <td>2.68742</td>\n",
       "    </tr>\n",
       "    <tr>\n",
       "      <th>3</th>\n",
       "      <td>2004-02-28</td>\n",
       "      <td>01:06:16.013453</td>\n",
       "      <td>17</td>\n",
       "      <td>1.0</td>\n",
       "      <td>19.1652</td>\n",
       "      <td>38.80390</td>\n",
       "      <td>45.08</td>\n",
       "      <td>2.68742</td>\n",
       "    </tr>\n",
       "    <tr>\n",
       "      <th>4</th>\n",
       "      <td>2004-02-28</td>\n",
       "      <td>01:06:46.778088</td>\n",
       "      <td>18</td>\n",
       "      <td>1.0</td>\n",
       "      <td>19.1750</td>\n",
       "      <td>38.83790</td>\n",
       "      <td>45.08</td>\n",
       "      <td>2.69964</td>\n",
       "    </tr>\n",
       "  </tbody>\n",
       "</table>\n",
       "</div>"
      ],
      "text/plain": [
       "            0                1   2    3         4         5      6        7\n",
       "0  2004-03-31  03:38:15.757551   2  1.0  122.1530  -3.91901  11.04  2.03397\n",
       "1  2004-02-28   00:59:16.02785   3  1.0   19.9884  37.09330  45.08  2.69964\n",
       "2  2004-02-28   01:03:16.33393  11  1.0   19.3024  38.46290  45.08  2.68742\n",
       "3  2004-02-28  01:06:16.013453  17  1.0   19.1652  38.80390  45.08  2.68742\n",
       "4  2004-02-28  01:06:46.778088  18  1.0   19.1750  38.83790  45.08  2.69964"
      ]
     },
     "execution_count": 10,
     "metadata": {},
     "output_type": "execute_result"
    }
   ],
   "source": [
    "data.head(5)"
   ]
  },
  {
   "cell_type": "code",
   "execution_count": 125,
   "metadata": {
    "collapsed": true
   },
   "outputs": [],
   "source": [
    "#mote - sensor\n",
    "#Renaming the columns\n",
    "data.columns = [\"date\",\"time\",\"epoch\",\"moteid\",\"temperature\",\"humidity\",\"light\",\"voltage\"]"
   ]
  },
  {
   "cell_type": "code",
   "execution_count": 68,
   "metadata": {},
   "outputs": [
    {
     "data": {
      "text/html": [
       "<div>\n",
       "<style>\n",
       "    .dataframe thead tr:only-child th {\n",
       "        text-align: right;\n",
       "    }\n",
       "\n",
       "    .dataframe thead th {\n",
       "        text-align: left;\n",
       "    }\n",
       "\n",
       "    .dataframe tbody tr th {\n",
       "        vertical-align: top;\n",
       "    }\n",
       "</style>\n",
       "<table border=\"1\" class=\"dataframe\">\n",
       "  <thead>\n",
       "    <tr style=\"text-align: right;\">\n",
       "      <th></th>\n",
       "      <th>date</th>\n",
       "      <th>time</th>\n",
       "      <th>epoch</th>\n",
       "      <th>moteid</th>\n",
       "      <th>temperature</th>\n",
       "      <th>humidity</th>\n",
       "      <th>light</th>\n",
       "      <th>voltage</th>\n",
       "    </tr>\n",
       "  </thead>\n",
       "  <tbody>\n",
       "    <tr>\n",
       "      <th>0</th>\n",
       "      <td>2004-03-31</td>\n",
       "      <td>03:38:15.757551</td>\n",
       "      <td>2</td>\n",
       "      <td>1.000</td>\n",
       "      <td>122.153</td>\n",
       "      <td>-3.919</td>\n",
       "      <td>11.040</td>\n",
       "      <td>2.034</td>\n",
       "    </tr>\n",
       "    <tr>\n",
       "      <th>1</th>\n",
       "      <td>2004-02-28</td>\n",
       "      <td>00:59:16.02785</td>\n",
       "      <td>3</td>\n",
       "      <td>1.000</td>\n",
       "      <td>19.988</td>\n",
       "      <td>37.093</td>\n",
       "      <td>45.080</td>\n",
       "      <td>2.700</td>\n",
       "    </tr>\n",
       "    <tr>\n",
       "      <th>2</th>\n",
       "      <td>2004-02-28</td>\n",
       "      <td>01:03:16.33393</td>\n",
       "      <td>11</td>\n",
       "      <td>1.000</td>\n",
       "      <td>19.302</td>\n",
       "      <td>38.463</td>\n",
       "      <td>45.080</td>\n",
       "      <td>2.687</td>\n",
       "    </tr>\n",
       "    <tr>\n",
       "      <th>3</th>\n",
       "      <td>2004-02-28</td>\n",
       "      <td>01:06:16.013453</td>\n",
       "      <td>17</td>\n",
       "      <td>1.000</td>\n",
       "      <td>19.165</td>\n",
       "      <td>38.804</td>\n",
       "      <td>45.080</td>\n",
       "      <td>2.687</td>\n",
       "    </tr>\n",
       "    <tr>\n",
       "      <th>4</th>\n",
       "      <td>2004-02-28</td>\n",
       "      <td>01:06:46.778088</td>\n",
       "      <td>18</td>\n",
       "      <td>1.000</td>\n",
       "      <td>19.175</td>\n",
       "      <td>38.838</td>\n",
       "      <td>45.080</td>\n",
       "      <td>2.700</td>\n",
       "    </tr>\n",
       "  </tbody>\n",
       "</table>\n",
       "</div>"
      ],
      "text/plain": [
       "         date             time  epoch  moteid  temperature  humidity  light  \\\n",
       "0  2004-03-31  03:38:15.757551      2   1.000      122.153    -3.919 11.040   \n",
       "1  2004-02-28   00:59:16.02785      3   1.000       19.988    37.093 45.080   \n",
       "2  2004-02-28   01:03:16.33393     11   1.000       19.302    38.463 45.080   \n",
       "3  2004-02-28  01:06:16.013453     17   1.000       19.165    38.804 45.080   \n",
       "4  2004-02-28  01:06:46.778088     18   1.000       19.175    38.838 45.080   \n",
       "\n",
       "   voltage  \n",
       "0    2.034  \n",
       "1    2.700  \n",
       "2    2.687  \n",
       "3    2.687  \n",
       "4    2.700  "
      ]
     },
     "execution_count": 68,
     "metadata": {},
     "output_type": "execute_result"
    }
   ],
   "source": [
    "data.head(5)"
   ]
  },
  {
   "cell_type": "code",
   "execution_count": 16,
   "metadata": {},
   "outputs": [
    {
     "name": "stdout",
     "output_type": "stream",
     "text": [
      "<class 'pandas.core.frame.DataFrame'>\n",
      "RangeIndex: 2313682 entries, 0 to 2313681\n",
      "Data columns (total 8 columns):\n",
      "date           object\n",
      "time           object\n",
      "epoch          int64\n",
      "moteid         float64\n",
      "temperature    float64\n",
      "humidity       float64\n",
      "light          float64\n",
      "voltage        float64\n",
      "dtypes: float64(5), int64(1), object(2)\n",
      "memory usage: 141.2+ MB\n"
     ]
    }
   ],
   "source": [
    "data.info()"
   ]
  },
  {
   "cell_type": "code",
   "execution_count": 17,
   "metadata": {},
   "outputs": [
    {
     "data": {
      "text/plain": [
       "(2313682, 8)"
      ]
     },
     "execution_count": 17,
     "metadata": {},
     "output_type": "execute_result"
    }
   ],
   "source": [
    "data.shape"
   ]
  },
  {
   "cell_type": "code",
   "execution_count": 29,
   "metadata": {},
   "outputs": [
    {
     "data": {
      "text/plain": [
       "date               0\n",
       "time               0\n",
       "epoch              0\n",
       "moteid           526\n",
       "temperature      901\n",
       "humidity         902\n",
       "light          93878\n",
       "voltage          526\n",
       "dtype: int64"
      ]
     },
     "execution_count": 29,
     "metadata": {},
     "output_type": "execute_result"
    }
   ],
   "source": [
    "data.isnull().sum()"
   ]
  },
  {
   "cell_type": "code",
   "execution_count": null,
   "metadata": {
    "collapsed": true
   },
   "outputs": [],
   "source": [
    "#TO verify if moteid is in between 1 to 54"
   ]
  },
  {
   "cell_type": "code",
   "execution_count": 52,
   "metadata": {},
   "outputs": [
    {
     "name": "stdout",
     "output_type": "stream",
     "text": [
      "Number of unique values:61\n",
      "Max mote id:65407.0\n",
      "Min mote id:1.0\n"
     ]
    }
   ],
   "source": [
    "print(\"Number of unique values:{0}\".format(data['moteid'].nunique()))\n",
    "print(\"Max mote id:{0}\".format(data['moteid'].max()))\n",
    "print(\"Min mote id:{0}\".format(data['moteid'].min()))"
   ]
  },
  {
   "cell_type": "markdown",
   "metadata": {},
   "source": [
    "### Observation about the motes\n",
    "* mote values are found to be out of range\n",
    "* 0.42% of the values are found to affected\n",
    "* The indices of the samples are as shown below"
   ]
  },
  {
   "cell_type": "code",
   "execution_count": 316,
   "metadata": {
    "collapsed": true
   },
   "outputs": [],
   "source": [
    "mask = data.moteid>54 "
   ]
  },
  {
   "cell_type": "code",
   "execution_count": null,
   "metadata": {
    "collapsed": true
   },
   "outputs": [],
   "source": [
    "#To find out the indices containing invalid mote id's"
   ]
  },
  {
   "cell_type": "code",
   "execution_count": 58,
   "metadata": {},
   "outputs": [
    {
     "data": {
      "text/plain": [
       "Int64Index([2303290, 2303291, 2303292, 2303293, 2303294, 2303295, 2303296,\n",
       "            2303297, 2303298, 2303299,\n",
       "            ...\n",
       "            2313146, 2313147, 2313148, 2313149, 2313150, 2313151, 2313152,\n",
       "            2313153, 2313154, 2313155],\n",
       "           dtype='int64', length=9866)"
      ]
     },
     "execution_count": 58,
     "metadata": {},
     "output_type": "execute_result"
    }
   ],
   "source": [
    "mask[mask].index"
   ]
  },
  {
   "cell_type": "code",
   "execution_count": 320,
   "metadata": {},
   "outputs": [
    {
     "data": {
      "text/plain": [
       "0.4264198796550261"
      ]
     },
     "execution_count": 320,
     "metadata": {},
     "output_type": "execute_result"
    }
   ],
   "source": [
    "(len(mask[mask].index)/data.shape[0])*100"
   ]
  },
  {
   "cell_type": "code",
   "execution_count": null,
   "metadata": {
    "collapsed": true
   },
   "outputs": [],
   "source": []
  },
  {
   "cell_type": "code",
   "execution_count": 64,
   "metadata": {},
   "outputs": [
    {
     "data": {
      "text/plain": [
       "33117.0"
      ]
     },
     "execution_count": 64,
     "metadata": {},
     "output_type": "execute_result"
    }
   ],
   "source": [
    "#To have a look at a sample index\n",
    "data.loc[2313154,'moteid'] "
   ]
  },
  {
   "cell_type": "code",
   "execution_count": 65,
   "metadata": {
    "collapsed": true
   },
   "outputs": [],
   "source": [
    "#to check if the voltage is in between 2 to 3"
   ]
  },
  {
   "cell_type": "code",
   "execution_count": 71,
   "metadata": {},
   "outputs": [
    {
     "name": "stdout",
     "output_type": "stream",
     "text": [
      "Max voltage:18.56\n",
      "Min voltage:0.00910083\n"
     ]
    }
   ],
   "source": [
    "print(\"Max voltage:{0}\".format(data['voltage'].max()))\n",
    "\n",
    "print(\"Min voltage:{0}\".format(data['voltage'].min()))\n",
    "\n",
    "#Evident with the box plot"
   ]
  },
  {
   "cell_type": "code",
   "execution_count": 26,
   "metadata": {},
   "outputs": [],
   "source": [
    "split = 4\n",
    "sensor_data = data.iloc[:,split:]"
   ]
  },
  {
   "cell_type": "code",
   "execution_count": 92,
   "metadata": {},
   "outputs": [
    {
     "data": {
      "text/html": [
       "<div>\n",
       "<style>\n",
       "    .dataframe thead tr:only-child th {\n",
       "        text-align: right;\n",
       "    }\n",
       "\n",
       "    .dataframe thead th {\n",
       "        text-align: left;\n",
       "    }\n",
       "\n",
       "    .dataframe tbody tr th {\n",
       "        vertical-align: top;\n",
       "    }\n",
       "</style>\n",
       "<table border=\"1\" class=\"dataframe\">\n",
       "  <thead>\n",
       "    <tr style=\"text-align: right;\">\n",
       "      <th></th>\n",
       "      <th>epoch</th>\n",
       "      <th>moteid</th>\n",
       "      <th>temperature</th>\n",
       "      <th>humidity</th>\n",
       "      <th>light</th>\n",
       "      <th>voltage</th>\n",
       "    </tr>\n",
       "  </thead>\n",
       "  <tbody>\n",
       "    <tr>\n",
       "      <th>count</th>\n",
       "      <td>2313682.000</td>\n",
       "      <td>2313156.000</td>\n",
       "      <td>2312781.000</td>\n",
       "      <td>2312780.000</td>\n",
       "      <td>2219804.000</td>\n",
       "      <td>2313156.000</td>\n",
       "    </tr>\n",
       "    <tr>\n",
       "      <th>mean</th>\n",
       "      <td>33039.931</td>\n",
       "      <td>28.544</td>\n",
       "      <td>39.207</td>\n",
       "      <td>33.908</td>\n",
       "      <td>407.211</td>\n",
       "      <td>2.493</td>\n",
       "    </tr>\n",
       "    <tr>\n",
       "      <th>std</th>\n",
       "      <td>18368.524</td>\n",
       "      <td>50.624</td>\n",
       "      <td>37.419</td>\n",
       "      <td>17.322</td>\n",
       "      <td>539.428</td>\n",
       "      <td>0.180</td>\n",
       "    </tr>\n",
       "    <tr>\n",
       "      <th>min</th>\n",
       "      <td>0.000</td>\n",
       "      <td>1.000</td>\n",
       "      <td>-38.400</td>\n",
       "      <td>-8983.130</td>\n",
       "      <td>0.000</td>\n",
       "      <td>0.009</td>\n",
       "    </tr>\n",
       "    <tr>\n",
       "      <th>25%</th>\n",
       "      <td>17572.000</td>\n",
       "      <td>17.000</td>\n",
       "      <td>20.410</td>\n",
       "      <td>31.878</td>\n",
       "      <td>39.560</td>\n",
       "      <td>2.385</td>\n",
       "    </tr>\n",
       "    <tr>\n",
       "      <th>50%</th>\n",
       "      <td>33327.000</td>\n",
       "      <td>29.000</td>\n",
       "      <td>22.438</td>\n",
       "      <td>39.280</td>\n",
       "      <td>158.240</td>\n",
       "      <td>2.527</td>\n",
       "    </tr>\n",
       "    <tr>\n",
       "      <th>75%</th>\n",
       "      <td>47789.000</td>\n",
       "      <td>41.000</td>\n",
       "      <td>27.025</td>\n",
       "      <td>43.586</td>\n",
       "      <td>537.280</td>\n",
       "      <td>2.628</td>\n",
       "    </tr>\n",
       "    <tr>\n",
       "      <th>max</th>\n",
       "      <td>65535.000</td>\n",
       "      <td>65407.000</td>\n",
       "      <td>385.568</td>\n",
       "      <td>137.512</td>\n",
       "      <td>1847.360</td>\n",
       "      <td>18.560</td>\n",
       "    </tr>\n",
       "  </tbody>\n",
       "</table>\n",
       "</div>"
      ],
      "text/plain": [
       "            epoch      moteid  temperature    humidity       light     voltage\n",
       "count 2313682.000 2313156.000  2312781.000 2312780.000 2219804.000 2313156.000\n",
       "mean    33039.931      28.544       39.207      33.908     407.211       2.493\n",
       "std     18368.524      50.624       37.419      17.322     539.428       0.180\n",
       "min         0.000       1.000      -38.400   -8983.130       0.000       0.009\n",
       "25%     17572.000      17.000       20.410      31.878      39.560       2.385\n",
       "50%     33327.000      29.000       22.438      39.280     158.240       2.527\n",
       "75%     47789.000      41.000       27.025      43.586     537.280       2.628\n",
       "max     65535.000   65407.000      385.568     137.512    1847.360      18.560"
      ]
     },
     "execution_count": 92,
     "metadata": {},
     "output_type": "execute_result"
    }
   ],
   "source": [
    "#data.describe()"
   ]
  },
  {
   "cell_type": "code",
   "execution_count": 27,
   "metadata": {},
   "outputs": [
    {
     "data": {
      "text/html": [
       "<div>\n",
       "<style>\n",
       "    .dataframe thead tr:only-child th {\n",
       "        text-align: right;\n",
       "    }\n",
       "\n",
       "    .dataframe thead th {\n",
       "        text-align: left;\n",
       "    }\n",
       "\n",
       "    .dataframe tbody tr th {\n",
       "        vertical-align: top;\n",
       "    }\n",
       "</style>\n",
       "<table border=\"1\" class=\"dataframe\">\n",
       "  <thead>\n",
       "    <tr style=\"text-align: right;\">\n",
       "      <th></th>\n",
       "      <th>temperature</th>\n",
       "      <th>humidity</th>\n",
       "      <th>light</th>\n",
       "      <th>voltage</th>\n",
       "    </tr>\n",
       "  </thead>\n",
       "  <tbody>\n",
       "    <tr>\n",
       "      <th>count</th>\n",
       "      <td>2312781.000</td>\n",
       "      <td>2312780.000</td>\n",
       "      <td>2219804.000</td>\n",
       "      <td>2313156.000</td>\n",
       "    </tr>\n",
       "    <tr>\n",
       "      <th>mean</th>\n",
       "      <td>39.207</td>\n",
       "      <td>33.908</td>\n",
       "      <td>407.211</td>\n",
       "      <td>2.493</td>\n",
       "    </tr>\n",
       "    <tr>\n",
       "      <th>std</th>\n",
       "      <td>37.419</td>\n",
       "      <td>17.322</td>\n",
       "      <td>539.428</td>\n",
       "      <td>0.180</td>\n",
       "    </tr>\n",
       "    <tr>\n",
       "      <th>min</th>\n",
       "      <td>-38.400</td>\n",
       "      <td>-8983.130</td>\n",
       "      <td>0.000</td>\n",
       "      <td>0.009</td>\n",
       "    </tr>\n",
       "    <tr>\n",
       "      <th>25%</th>\n",
       "      <td>20.410</td>\n",
       "      <td>31.878</td>\n",
       "      <td>39.560</td>\n",
       "      <td>2.385</td>\n",
       "    </tr>\n",
       "    <tr>\n",
       "      <th>50%</th>\n",
       "      <td>22.438</td>\n",
       "      <td>39.280</td>\n",
       "      <td>158.240</td>\n",
       "      <td>2.527</td>\n",
       "    </tr>\n",
       "    <tr>\n",
       "      <th>75%</th>\n",
       "      <td>27.025</td>\n",
       "      <td>43.586</td>\n",
       "      <td>537.280</td>\n",
       "      <td>2.628</td>\n",
       "    </tr>\n",
       "    <tr>\n",
       "      <th>max</th>\n",
       "      <td>385.568</td>\n",
       "      <td>137.512</td>\n",
       "      <td>1847.360</td>\n",
       "      <td>18.560</td>\n",
       "    </tr>\n",
       "  </tbody>\n",
       "</table>\n",
       "</div>"
      ],
      "text/plain": [
       "       temperature    humidity       light     voltage\n",
       "count  2312781.000 2312780.000 2219804.000 2313156.000\n",
       "mean        39.207      33.908     407.211       2.493\n",
       "std         37.419      17.322     539.428       0.180\n",
       "min        -38.400   -8983.130       0.000       0.009\n",
       "25%         20.410      31.878      39.560       2.385\n",
       "50%         22.438      39.280     158.240       2.527\n",
       "75%         27.025      43.586     537.280       2.628\n",
       "max        385.568     137.512    1847.360      18.560"
      ]
     },
     "execution_count": 27,
     "metadata": {},
     "output_type": "execute_result"
    }
   ],
   "source": [
    "sensor_data.describe()"
   ]
  },
  {
   "cell_type": "code",
   "execution_count": 30,
   "metadata": {
    "collapsed": true
   },
   "outputs": [],
   "source": [
    "#Visualizing the Sensor data"
   ]
  },
  {
   "cell_type": "code",
   "execution_count": 31,
   "metadata": {
    "collapsed": true
   },
   "outputs": [],
   "source": [
    "sensor_columns = sensor_data.columns"
   ]
  },
  {
   "cell_type": "code",
   "execution_count": 32,
   "metadata": {
    "collapsed": true
   },
   "outputs": [],
   "source": [
    "n_rows = 2 \n",
    "n_cols = 2\n"
   ]
  },
  {
   "cell_type": "code",
   "execution_count": 38,
   "metadata": {},
   "outputs": [
    {
     "data": {
      "text/plain": [
       "Index(['temperature', 'humidity', 'light', 'voltage'], dtype='object')"
      ]
     },
     "execution_count": 38,
     "metadata": {},
     "output_type": "execute_result"
    }
   ],
   "source": [
    "sensor_columns"
   ]
  },
  {
   "cell_type": "code",
   "execution_count": 39,
   "metadata": {},
   "outputs": [
    {
     "data": {
      "image/png": "[encoded data removed]",
      "text/plain": [
       "<matplotlib.figure.Figure at 0x2120ad7bcc0>"
      ]
     },
     "metadata": {},
     "output_type": "display_data"
    },
    {
     "data": {
      "image/png": "[encoded data removed]",
      "text/plain": [
       "<matplotlib.figure.Figure at 0x2120aa83a20>"
      ]
     },
     "metadata": {},
     "output_type": "display_data"
    }
   ],
   "source": [
    "#Combination of box plot and kernel density function\n",
    "for i in range(n_rows):\n",
    "    fg, ax  =plt.subplots(ncols = n_cols,nrows = 1,figsize = (12,8))\n",
    "    for j in range(n_cols):\n",
    "        sns.violinplot(y = sensor_columns[i * n_cols + j],data = sensor_data, ax = ax[j])\n",
    "plt.show()\n",
    "        "
   ]
  },
  {
   "cell_type": "code",
   "execution_count": 40,
   "metadata": {
    "scrolled": true
   },
   "outputs": [
    {
     "data": {
      "image/png": "[encoded data removed]",
      "text/plain": [
       "<matplotlib.figure.Figure at 0x2120ab92cf8>"
      ]
     },
     "metadata": {},
     "output_type": "display_data"
    },
    {
     "data": {
      "image/png": "[encoded data removed]",
      "text/plain": [
       "<matplotlib.figure.Figure at 0x2120aba6860>"
      ]
     },
     "metadata": {},
     "output_type": "display_data"
    }
   ],
   "source": [
    "for i in range(n_rows):\n",
    "    fg, ax  =plt.subplots(ncols = n_cols,nrows = 1,figsize = (12,8))\n",
    "    for j in range(n_cols):\n",
    "        sns.boxplot(y = sensor_columns[i * n_cols + j],data = sensor_data, ax = ax[j])\n",
    "plt.show()\n",
    "        "
   ]
  },
  {
   "cell_type": "markdown",
   "metadata": {},
   "source": [
    "### A few things to be inferred from the box and the violin plots\n",
    "* The box plot for voltage is short.The voltage values are in agreement with each other. Also the values are clustered around 2.5 V\n",
    "* Same observation for humidity. The figure seems out of focused due to the large magnitude of the outlier\n",
    "* The data for light seems to be right skewed\n",
    "* The majority of temperature values are concentrated between (15 to 35) units. There are few around 120 units\n"
   ]
  },
  {
   "cell_type": "code",
   "execution_count": null,
   "metadata": {
    "collapsed": true
   },
   "outputs": [],
   "source": []
  },
  {
   "cell_type": "markdown",
   "metadata": {},
   "source": [
    "#### Statement - \" Two readings from the same epoch number were produced from different motes at the same time\""
   ]
  },
  {
   "cell_type": "code",
   "execution_count": 74,
   "metadata": {
    "scrolled": true
   },
   "outputs": [
    {
     "data": {
      "text/plain": [
       "epoch\n",
       "0         6\n",
       "1         2\n",
       "2        48\n",
       "3        31\n",
       "4        30\n",
       "5        26\n",
       "6        26\n",
       "7        27\n",
       "8        24\n",
       "9        24\n",
       "10       19\n",
       "11       19\n",
       "12       19\n",
       "13       18\n",
       "14       19\n",
       "15       23\n",
       "16       26\n",
       "17       18\n",
       "18       31\n",
       "19       29\n",
       "20       32\n",
       "21       36\n",
       "22       31\n",
       "23       35\n",
       "24       36\n",
       "25       37\n",
       "26       38\n",
       "27       33\n",
       "28       39\n",
       "29       38\n",
       "         ..\n",
       "65506    28\n",
       "65507    28\n",
       "65508    31\n",
       "65509    28\n",
       "65510    28\n",
       "65511    25\n",
       "65512    30\n",
       "65513    27\n",
       "65514    27\n",
       "65515    23\n",
       "65516    29\n",
       "65517    27\n",
       "65518    32\n",
       "65519    25\n",
       "65520    32\n",
       "65521    25\n",
       "65522    21\n",
       "65523    25\n",
       "65524    27\n",
       "65525    30\n",
       "65526    25\n",
       "65527    25\n",
       "65528    27\n",
       "65529    27\n",
       "65530    25\n",
       "65531    31\n",
       "65532    31\n",
       "65533    29\n",
       "65534    27\n",
       "65535    30\n",
       "Name: moteid, Length: 65536, dtype: int64"
      ]
     },
     "execution_count": 74,
     "metadata": {},
     "output_type": "execute_result"
    }
   ],
   "source": [
    "data.groupby('epoch')['moteid'].count()"
   ]
  },
  {
   "cell_type": "code",
   "execution_count": 82,
   "metadata": {},
   "outputs": [],
   "source": [
    "epoch_motedata = data.groupby('epoch')['moteid'].aggregate(\"count\")\n",
    "\n",
    "type(epoch_motedata)\n",
    "\n",
    "epoch_motedata"
   ]
  },
  {
   "cell_type": "code",
   "execution_count": 85,
   "metadata": {
    "collapsed": true
   },
   "outputs": [],
   "source": [
    "epoch_motedata_df = epoch_motedata.reset_index()"
   ]
  },
  {
   "cell_type": "code",
   "execution_count": 90,
   "metadata": {},
   "outputs": [
    {
     "data": {
      "text/plain": [
       "2313156"
      ]
     },
     "execution_count": 90,
     "metadata": {},
     "output_type": "execute_result"
    }
   ],
   "source": [
    "epoch_motedata_df['moteid'].sum\n",
    "#matches with the total number of NON-NAN values for moteid"
   ]
  },
  {
   "cell_type": "code",
   "execution_count": 88,
   "metadata": {},
   "outputs": [
    {
     "data": {
      "text/html": [
       "<div>\n",
       "<style>\n",
       "    .dataframe thead tr:only-child th {\n",
       "        text-align: right;\n",
       "    }\n",
       "\n",
       "    .dataframe thead th {\n",
       "        text-align: left;\n",
       "    }\n",
       "\n",
       "    .dataframe tbody tr th {\n",
       "        vertical-align: top;\n",
       "    }\n",
       "</style>\n",
       "<table border=\"1\" class=\"dataframe\">\n",
       "  <thead>\n",
       "    <tr style=\"text-align: right;\">\n",
       "      <th></th>\n",
       "      <th>epoch</th>\n",
       "      <th>moteid</th>\n",
       "    </tr>\n",
       "  </thead>\n",
       "  <tbody>\n",
       "    <tr>\n",
       "      <th>0</th>\n",
       "      <td>0</td>\n",
       "      <td>6</td>\n",
       "    </tr>\n",
       "    <tr>\n",
       "      <th>1</th>\n",
       "      <td>1</td>\n",
       "      <td>2</td>\n",
       "    </tr>\n",
       "    <tr>\n",
       "      <th>2</th>\n",
       "      <td>2</td>\n",
       "      <td>48</td>\n",
       "    </tr>\n",
       "    <tr>\n",
       "      <th>3</th>\n",
       "      <td>3</td>\n",
       "      <td>31</td>\n",
       "    </tr>\n",
       "    <tr>\n",
       "      <th>4</th>\n",
       "      <td>4</td>\n",
       "      <td>30</td>\n",
       "    </tr>\n",
       "  </tbody>\n",
       "</table>\n",
       "</div>"
      ],
      "text/plain": [
       "   epoch  moteid\n",
       "0      0       6\n",
       "1      1       2\n",
       "2      2      48\n",
       "3      3      31\n",
       "4      4      30"
      ]
     },
     "execution_count": 88,
     "metadata": {},
     "output_type": "execute_result"
    }
   ],
   "source": [
    "epoch_motedata_df.head(5)"
   ]
  },
  {
   "cell_type": "code",
   "execution_count": 87,
   "metadata": {},
   "outputs": [
    {
     "data": {
      "text/plain": [
       "Index(['epoch', 'moteid'], dtype='object')"
      ]
     },
     "execution_count": 87,
     "metadata": {},
     "output_type": "execute_result"
    }
   ],
   "source": [
    "epoch_motedata_df.columns"
   ]
  },
  {
   "cell_type": "code",
   "execution_count": 95,
   "metadata": {},
   "outputs": [
    {
     "data": {
      "image/png": "[encoded data removed]",
      "text/plain": [
       "<matplotlib.figure.Figure at 0x21221e56860>"
      ]
     },
     "metadata": {},
     "output_type": "display_data"
    }
   ],
   "source": [
    "plt.figure(figsize = (12,8))\n",
    "sns.countplot(x = 'moteid',data = epoch_motedata_df,color = color[4])\n",
    "plt.ylabel('Number of epochs',fontsize = 12)\n",
    "plt.xlabel('Count of motes',fontsize = 12)\n",
    "plt.title('Freq distribution',fontsize = 15)\n",
    "plt.show()"
   ]
  },
  {
   "cell_type": "markdown",
   "metadata": {},
   "source": [
    "### From the frequency distribution,\n",
    "* almost close to 4000 epochs have values being contributed by as many as 32 motes\n",
    "* A large number of iterations have the sensor values from around 28 to 45 motes\n",
    "* Only in case of fewer number of iterations, there are values from more than 50 motes/less than 20 motes \n"
   ]
  },
  {
   "cell_type": "code",
   "execution_count": 99,
   "metadata": {},
   "outputs": [],
   "source": [
    "# to find the correlation among sensor data\n",
    "parameters_correlation = sensor_data.corr()"
   ]
  },
  {
   "cell_type": "code",
   "execution_count": 110,
   "metadata": {},
   "outputs": [
    {
     "data": {
      "text/plain": [
       "<matplotlib.axes._subplots.AxesSubplot at 0x2122276ec88>"
      ]
     },
     "execution_count": 110,
     "metadata": {},
     "output_type": "execute_result"
    },
    {
     "data": {
      "image/png": "[encoded data removed]",
      "text/plain": [
       "<matplotlib.figure.Figure at 0x21222bd5a90>"
      ]
     },
     "metadata": {},
     "output_type": "display_data"
    }
   ],
   "source": [
    "f,ax = plt.subplots(figsize = (8,8))\n",
    "\n",
    "sns.heatmap(data = parameters_correlation,annot = True,linewidths = 0.5,fmt = '.3f',ax = ax)"
   ]
  },
  {
   "cell_type": "markdown",
   "metadata": {},
   "source": [
    "* From the correlation plot, there is a negative relation between humidity and temperature. As one quantity increase, the other decreases. Similar with temperature and voltage values. \n",
    "* The other values are not too significant"
   ]
  },
  {
   "cell_type": "code",
   "execution_count": 198,
   "metadata": {},
   "outputs": [
    {
     "data": {
      "image/png": "[encoded data removed]",
      "text/plain": [
       "<matplotlib.figure.Figure at 0x21238b85128>"
      ]
     },
     "metadata": {},
     "output_type": "display_data"
    }
   ],
   "source": [
    "ax = sns.regplot(x=\"temperature\", y=\"voltage\", data=data)"
   ]
  },
  {
   "cell_type": "markdown",
   "metadata": {},
   "source": [
    "* the negative slope of the line kind of confirms the relation between temp and voltage values established by the pearsons co-eff\n",
    "* The points in the graph are like a lump because of large number of samples"
   ]
  },
  {
   "cell_type": "code",
   "execution_count": 217,
   "metadata": {},
   "outputs": [],
   "source": [
    "data['Date'] = pd.to_datetime(data['date'])\n",
    "#Creating a new column by converting object to datetime object\n",
    "#Another option is to merge and have one single column for date and time"
   ]
  },
  {
   "cell_type": "code",
   "execution_count": 127,
   "metadata": {},
   "outputs": [
    {
     "data": {
      "text/plain": [
       "date                   object\n",
       "time                   object\n",
       "epoch                   int64\n",
       "moteid                float64\n",
       "temperature           float64\n",
       "humidity              float64\n",
       "light                 float64\n",
       "voltage               float64\n",
       "Date           datetime64[ns]\n",
       "dtype: object"
      ]
     },
     "execution_count": 127,
     "metadata": {},
     "output_type": "execute_result"
    }
   ],
   "source": [
    "data.dtypes"
   ]
  },
  {
   "cell_type": "code",
   "execution_count": 128,
   "metadata": {
    "collapsed": true
   },
   "outputs": [],
   "source": [
    "del data['date']"
   ]
  },
  {
   "cell_type": "code",
   "execution_count": 129,
   "metadata": {},
   "outputs": [
    {
     "data": {
      "text/html": [
       "<div>\n",
       "<style>\n",
       "    .dataframe thead tr:only-child th {\n",
       "        text-align: right;\n",
       "    }\n",
       "\n",
       "    .dataframe thead th {\n",
       "        text-align: left;\n",
       "    }\n",
       "\n",
       "    .dataframe tbody tr th {\n",
       "        vertical-align: top;\n",
       "    }\n",
       "</style>\n",
       "<table border=\"1\" class=\"dataframe\">\n",
       "  <thead>\n",
       "    <tr style=\"text-align: right;\">\n",
       "      <th></th>\n",
       "      <th>time</th>\n",
       "      <th>epoch</th>\n",
       "      <th>moteid</th>\n",
       "      <th>temperature</th>\n",
       "      <th>humidity</th>\n",
       "      <th>light</th>\n",
       "      <th>voltage</th>\n",
       "      <th>Date</th>\n",
       "    </tr>\n",
       "  </thead>\n",
       "  <tbody>\n",
       "    <tr>\n",
       "      <th>0</th>\n",
       "      <td>03:38:15.757551</td>\n",
       "      <td>2</td>\n",
       "      <td>1.000</td>\n",
       "      <td>122.153</td>\n",
       "      <td>-3.919</td>\n",
       "      <td>11.040</td>\n",
       "      <td>2.034</td>\n",
       "      <td>2004-03-31</td>\n",
       "    </tr>\n",
       "    <tr>\n",
       "      <th>1</th>\n",
       "      <td>00:59:16.02785</td>\n",
       "      <td>3</td>\n",
       "      <td>1.000</td>\n",
       "      <td>19.988</td>\n",
       "      <td>37.093</td>\n",
       "      <td>45.080</td>\n",
       "      <td>2.700</td>\n",
       "      <td>2004-02-28</td>\n",
       "    </tr>\n",
       "    <tr>\n",
       "      <th>2</th>\n",
       "      <td>01:03:16.33393</td>\n",
       "      <td>11</td>\n",
       "      <td>1.000</td>\n",
       "      <td>19.302</td>\n",
       "      <td>38.463</td>\n",
       "      <td>45.080</td>\n",
       "      <td>2.687</td>\n",
       "      <td>2004-02-28</td>\n",
       "    </tr>\n",
       "    <tr>\n",
       "      <th>3</th>\n",
       "      <td>01:06:16.013453</td>\n",
       "      <td>17</td>\n",
       "      <td>1.000</td>\n",
       "      <td>19.165</td>\n",
       "      <td>38.804</td>\n",
       "      <td>45.080</td>\n",
       "      <td>2.687</td>\n",
       "      <td>2004-02-28</td>\n",
       "    </tr>\n",
       "    <tr>\n",
       "      <th>4</th>\n",
       "      <td>01:06:46.778088</td>\n",
       "      <td>18</td>\n",
       "      <td>1.000</td>\n",
       "      <td>19.175</td>\n",
       "      <td>38.838</td>\n",
       "      <td>45.080</td>\n",
       "      <td>2.700</td>\n",
       "      <td>2004-02-28</td>\n",
       "    </tr>\n",
       "  </tbody>\n",
       "</table>\n",
       "</div>"
      ],
      "text/plain": [
       "              time  epoch  moteid  temperature  humidity  light  voltage  \\\n",
       "0  03:38:15.757551      2   1.000      122.153    -3.919 11.040    2.034   \n",
       "1   00:59:16.02785      3   1.000       19.988    37.093 45.080    2.700   \n",
       "2   01:03:16.33393     11   1.000       19.302    38.463 45.080    2.687   \n",
       "3  01:06:16.013453     17   1.000       19.165    38.804 45.080    2.687   \n",
       "4  01:06:46.778088     18   1.000       19.175    38.838 45.080    2.700   \n",
       "\n",
       "        Date  \n",
       "0 2004-03-31  \n",
       "1 2004-02-28  \n",
       "2 2004-02-28  \n",
       "3 2004-02-28  \n",
       "4 2004-02-28  "
      ]
     },
     "execution_count": 129,
     "metadata": {},
     "output_type": "execute_result"
    }
   ],
   "source": [
    "data.head(5)"
   ]
  },
  {
   "cell_type": "code",
   "execution_count": 130,
   "metadata": {
    "collapsed": true
   },
   "outputs": [],
   "source": [
    "data = data.reindex_axis(['Date','time','epoch','moteid','temperature','humidity','light','voltage'], axis=1)\n"
   ]
  },
  {
   "cell_type": "code",
   "execution_count": 132,
   "metadata": {},
   "outputs": [
    {
     "data": {
      "text/html": [
       "<div>\n",
       "<style>\n",
       "    .dataframe thead tr:only-child th {\n",
       "        text-align: right;\n",
       "    }\n",
       "\n",
       "    .dataframe thead th {\n",
       "        text-align: left;\n",
       "    }\n",
       "\n",
       "    .dataframe tbody tr th {\n",
       "        vertical-align: top;\n",
       "    }\n",
       "</style>\n",
       "<table border=\"1\" class=\"dataframe\">\n",
       "  <thead>\n",
       "    <tr style=\"text-align: right;\">\n",
       "      <th></th>\n",
       "      <th>Date</th>\n",
       "      <th>time</th>\n",
       "      <th>epoch</th>\n",
       "      <th>moteid</th>\n",
       "      <th>temperature</th>\n",
       "      <th>humidity</th>\n",
       "      <th>light</th>\n",
       "      <th>voltage</th>\n",
       "    </tr>\n",
       "  </thead>\n",
       "  <tbody>\n",
       "    <tr>\n",
       "      <th>0</th>\n",
       "      <td>2004-03-31</td>\n",
       "      <td>03:38:15.757551</td>\n",
       "      <td>2</td>\n",
       "      <td>1.000</td>\n",
       "      <td>122.153</td>\n",
       "      <td>-3.919</td>\n",
       "      <td>11.040</td>\n",
       "      <td>2.034</td>\n",
       "    </tr>\n",
       "    <tr>\n",
       "      <th>1</th>\n",
       "      <td>2004-02-28</td>\n",
       "      <td>00:59:16.02785</td>\n",
       "      <td>3</td>\n",
       "      <td>1.000</td>\n",
       "      <td>19.988</td>\n",
       "      <td>37.093</td>\n",
       "      <td>45.080</td>\n",
       "      <td>2.700</td>\n",
       "    </tr>\n",
       "    <tr>\n",
       "      <th>2</th>\n",
       "      <td>2004-02-28</td>\n",
       "      <td>01:03:16.33393</td>\n",
       "      <td>11</td>\n",
       "      <td>1.000</td>\n",
       "      <td>19.302</td>\n",
       "      <td>38.463</td>\n",
       "      <td>45.080</td>\n",
       "      <td>2.687</td>\n",
       "    </tr>\n",
       "    <tr>\n",
       "      <th>3</th>\n",
       "      <td>2004-02-28</td>\n",
       "      <td>01:06:16.013453</td>\n",
       "      <td>17</td>\n",
       "      <td>1.000</td>\n",
       "      <td>19.165</td>\n",
       "      <td>38.804</td>\n",
       "      <td>45.080</td>\n",
       "      <td>2.687</td>\n",
       "    </tr>\n",
       "    <tr>\n",
       "      <th>4</th>\n",
       "      <td>2004-02-28</td>\n",
       "      <td>01:06:46.778088</td>\n",
       "      <td>18</td>\n",
       "      <td>1.000</td>\n",
       "      <td>19.175</td>\n",
       "      <td>38.838</td>\n",
       "      <td>45.080</td>\n",
       "      <td>2.700</td>\n",
       "    </tr>\n",
       "  </tbody>\n",
       "</table>\n",
       "</div>"
      ],
      "text/plain": [
       "        Date             time  epoch  moteid  temperature  humidity  light  \\\n",
       "0 2004-03-31  03:38:15.757551      2   1.000      122.153    -3.919 11.040   \n",
       "1 2004-02-28   00:59:16.02785      3   1.000       19.988    37.093 45.080   \n",
       "2 2004-02-28   01:03:16.33393     11   1.000       19.302    38.463 45.080   \n",
       "3 2004-02-28  01:06:16.013453     17   1.000       19.165    38.804 45.080   \n",
       "4 2004-02-28  01:06:46.778088     18   1.000       19.175    38.838 45.080   \n",
       "\n",
       "   voltage  \n",
       "0    2.034  \n",
       "1    2.700  \n",
       "2    2.687  \n",
       "3    2.687  \n",
       "4    2.700  "
      ]
     },
     "execution_count": 132,
     "metadata": {},
     "output_type": "execute_result"
    }
   ],
   "source": [
    "data.head()"
   ]
  },
  {
   "cell_type": "code",
   "execution_count": 142,
   "metadata": {},
   "outputs": [],
   "source": [
    "a = data.loc[1:1,\"Date\"]"
   ]
  },
  {
   "cell_type": "code",
   "execution_count": 146,
   "metadata": {},
   "outputs": [
    {
     "data": {
      "text/plain": [
       "2004"
      ]
     },
     "execution_count": 146,
     "metadata": {},
     "output_type": "execute_result"
    }
   ],
   "source": [
    "a[1].year"
   ]
  },
  {
   "cell_type": "code",
   "execution_count": null,
   "metadata": {},
   "outputs": [],
   "source": []
  },
  {
   "cell_type": "code",
   "execution_count": null,
   "metadata": {
    "collapsed": true
   },
   "outputs": [],
   "source": [
    "#TO find the duration of the data collected"
   ]
  },
  {
   "cell_type": "code",
   "execution_count": 162,
   "metadata": {},
   "outputs": [],
   "source": [
    "MaxDate = data['Date'].max()"
   ]
  },
  {
   "cell_type": "code",
   "execution_count": 163,
   "metadata": {},
   "outputs": [],
   "source": [
    "MinDate = data['Date'].min()"
   ]
  },
  {
   "cell_type": "code",
   "execution_count": 174,
   "metadata": {},
   "outputs": [
    {
     "data": {
      "text/plain": [
       "37"
      ]
     },
     "execution_count": 174,
     "metadata": {},
     "output_type": "execute_result"
    }
   ],
   "source": [
    "(MaxDate - MinDate).days"
   ]
  },
  {
   "cell_type": "code",
   "execution_count": 178,
   "metadata": {},
   "outputs": [
    {
     "name": "stdout",
     "output_type": "stream",
     "text": [
      "Start date: 2004-02-28\n",
      "End date:2004-04-05\n"
     ]
    }
   ],
   "source": [
    "print(\"Start date: {0}\".format(MinDate.date()))\n",
    "print(\"End date:{0}\".format(MaxDate.date()))"
   ]
  },
  {
   "cell_type": "code",
   "execution_count": 170,
   "metadata": {},
   "outputs": [
    {
     "name": "stdout",
     "output_type": "stream",
     "text": [
      "Years:0,Months:3\n"
     ]
    }
   ],
   "source": [
    "print(\"Years:{0},Months:{1}\".format(MaxDate.year - MinDate.year,MaxDate.month - MinDate.month + 1))\n",
    "#in terms of months"
   ]
  },
  {
   "cell_type": "code",
   "execution_count": 192,
   "metadata": {
    "collapsed": true
   },
   "outputs": [],
   "source": [
    "MonthWise = data.groupby(data['Date'].map(lambda x: x.month))['moteid'].count()\n"
   ]
  },
  {
   "cell_type": "code",
   "execution_count": 193,
   "metadata": {},
   "outputs": [
    {
     "data": {
      "text/plain": [
       "Date\n",
       "2     180549\n",
       "3    2098184\n",
       "4      34423\n",
       "Name: moteid, dtype: int64"
      ]
     },
     "execution_count": 193,
     "metadata": {},
     "output_type": "execute_result"
    }
   ],
   "source": [
    "MonthWise"
   ]
  },
  {
   "cell_type": "markdown",
   "metadata": {},
   "source": [
    "#### A few things to note from the above findings\n",
    "* The data was gathered between 2004-02-28 and 2004-04-05 (yyyy-mm-dd)\n",
    "* The data is available for 37 days, the bulk of which is in march\n",
    "* A surprise fact is that almost 10% of the available data is gathered on Feb 28 and Feb 29\n"
   ]
  },
  {
   "cell_type": "code",
   "execution_count": 194,
   "metadata": {},
   "outputs": [],
   "source": [
    "#Extracting values for march\n",
    "mask = (data['Date'] >= '2004-3-1') & (data['Date'] < '2004-4-1')\n",
    "\n",
    "MarchData = data.loc[mask]"
   ]
  },
  {
   "cell_type": "code",
   "execution_count": 197,
   "metadata": {},
   "outputs": [
    {
     "data": {
      "text/html": [
       "<div>\n",
       "<style>\n",
       "    .dataframe thead tr:only-child th {\n",
       "        text-align: right;\n",
       "    }\n",
       "\n",
       "    .dataframe thead th {\n",
       "        text-align: left;\n",
       "    }\n",
       "\n",
       "    .dataframe tbody tr th {\n",
       "        vertical-align: top;\n",
       "    }\n",
       "</style>\n",
       "<table border=\"1\" class=\"dataframe\">\n",
       "  <thead>\n",
       "    <tr style=\"text-align: right;\">\n",
       "      <th></th>\n",
       "      <th>Date</th>\n",
       "      <th>time</th>\n",
       "      <th>epoch</th>\n",
       "      <th>moteid</th>\n",
       "      <th>temperature</th>\n",
       "      <th>humidity</th>\n",
       "      <th>light</th>\n",
       "      <th>voltage</th>\n",
       "    </tr>\n",
       "  </thead>\n",
       "  <tbody>\n",
       "    <tr>\n",
       "      <th>0</th>\n",
       "      <td>2004-03-31</td>\n",
       "      <td>03:38:15.757551</td>\n",
       "      <td>2</td>\n",
       "      <td>1.000</td>\n",
       "      <td>122.153</td>\n",
       "      <td>-3.919</td>\n",
       "      <td>11.040</td>\n",
       "      <td>2.034</td>\n",
       "    </tr>\n",
       "    <tr>\n",
       "      <th>2410</th>\n",
       "      <td>2004-03-31</td>\n",
       "      <td>03:22:19.705081</td>\n",
       "      <td>4611</td>\n",
       "      <td>1.000</td>\n",
       "      <td>122.153</td>\n",
       "      <td>-3.919</td>\n",
       "      <td>10.120</td>\n",
       "      <td>2.048</td>\n",
       "    </tr>\n",
       "    <tr>\n",
       "      <th>2416</th>\n",
       "      <td>2004-03-31</td>\n",
       "      <td>03:26:15.556275</td>\n",
       "      <td>4619</td>\n",
       "      <td>1.000</td>\n",
       "      <td>122.153</td>\n",
       "      <td>-3.919</td>\n",
       "      <td>10.120</td>\n",
       "      <td>2.048</td>\n",
       "    </tr>\n",
       "    <tr>\n",
       "      <th>2500</th>\n",
       "      <td>2004-03-31</td>\n",
       "      <td>04:31:15.650149</td>\n",
       "      <td>4749</td>\n",
       "      <td>1.000</td>\n",
       "      <td>121.997</td>\n",
       "      <td>-1.419</td>\n",
       "      <td>9.200</td>\n",
       "      <td>2.013</td>\n",
       "    </tr>\n",
       "    <tr>\n",
       "      <th>2503</th>\n",
       "      <td>2004-03-31</td>\n",
       "      <td>04:35:02.327003</td>\n",
       "      <td>4756</td>\n",
       "      <td>1.000</td>\n",
       "      <td>121.977</td>\n",
       "      <td>-0.458</td>\n",
       "      <td>9.200</td>\n",
       "      <td>2.013</td>\n",
       "    </tr>\n",
       "  </tbody>\n",
       "</table>\n",
       "</div>"
      ],
      "text/plain": [
       "           Date             time  epoch  moteid  temperature  humidity  light  \\\n",
       "0    2004-03-31  03:38:15.757551      2   1.000      122.153    -3.919 11.040   \n",
       "2410 2004-03-31  03:22:19.705081   4611   1.000      122.153    -3.919 10.120   \n",
       "2416 2004-03-31  03:26:15.556275   4619   1.000      122.153    -3.919 10.120   \n",
       "2500 2004-03-31  04:31:15.650149   4749   1.000      121.997    -1.419  9.200   \n",
       "2503 2004-03-31  04:35:02.327003   4756   1.000      121.977    -0.458  9.200   \n",
       "\n",
       "      voltage  \n",
       "0       2.034  \n",
       "2410    2.048  \n",
       "2416    2.048  \n",
       "2500    2.013  \n",
       "2503    2.013  "
      ]
     },
     "execution_count": 197,
     "metadata": {},
     "output_type": "execute_result"
    }
   ],
   "source": [
    "MarchData.head(5)"
   ]
  },
  {
   "cell_type": "code",
   "execution_count": null,
   "metadata": {},
   "outputs": [],
   "source": [
    "# data['Date'] = data['Date'].dt.date\n",
    "# MarchData['Date'] = MarchData['Date'].dt.date"
   ]
  },
  {
   "cell_type": "code",
   "execution_count": 207,
   "metadata": {},
   "outputs": [
    {
     "data": {
      "text/plain": [
       "datetime.date"
      ]
     },
     "execution_count": 207,
     "metadata": {},
     "output_type": "execute_result"
    }
   ],
   "source": [
    "type(data['Date'][0])"
   ]
  },
  {
   "cell_type": "code",
   "execution_count": 324,
   "metadata": {},
   "outputs": [
    {
     "data": {
      "image/png": "[encoded data removed]",
      "text/plain": [
       "<matplotlib.figure.Figure at 0x21238d27be0>"
      ]
     },
     "metadata": {},
     "output_type": "display_data"
    }
   ],
   "source": [
    "sns.countplot(x = \"Date\",data = MarchData,color = color[3])\n",
    "plt.ylabel('count of the number of items',fontsize = 12)\n",
    "plt.xlabel('days in march',fontsize = 12)\n",
    "plt.title('Frequency',fontsize = 14)\n",
    "plt.xticks(rotation= 'vertical')\n",
    "plt.show()"
   ]
  },
  {
   "cell_type": "markdown",
   "metadata": {},
   "source": [
    "* A large number of values are recorded in the first 9 days of March\n",
    "* Very few values during the end of march"
   ]
  },
  {
   "cell_type": "markdown",
   "metadata": {},
   "source": [
    "### Variations of sensor values in March"
   ]
  },
  {
   "cell_type": "code",
   "execution_count": 230,
   "metadata": {},
   "outputs": [],
   "source": [
    "# COnverting string into time object"
   ]
  },
  {
   "cell_type": "code",
   "execution_count": 274,
   "metadata": {},
   "outputs": [],
   "source": [
    "data['CovnHour'] = pd.to_datetime(data['time'],format= '%H:%M:%S.%f',infer_datetime_format=True)\n",
    "#allow the framework to infer the date\n",
    "#all the timestamps are converted to datetime where the current date is appended\n",
    "#discard the current date\n",
    "data['CovnHour'] = data['CovnHour'].dt.time\n",
    "\n",
    "data['CovnHour']"
   ]
  },
  {
   "cell_type": "code",
   "execution_count": 280,
   "metadata": {},
   "outputs": [],
   "source": [
    "del data['time']"
   ]
  },
  {
   "cell_type": "code",
   "execution_count": 292,
   "metadata": {},
   "outputs": [
    {
     "data": {
      "image/png": "[encoded data removed]",
      "text/plain": [
       "<matplotlib.figure.Figure at 0x21238d407f0>"
      ]
     },
     "metadata": {},
     "output_type": "display_data"
    }
   ],
   "source": [
    "df = MarchData.sort_values('Date', ascending=True)\n",
    "sns.set_style(\"darkgrid\")\n",
    "plt.plot(df['Date'], df['temperature'])\n",
    "plt.xticks(rotation='vertical')\n",
    "plt.title('Temp Variations in March',fontsize = 12)\n",
    "plt.xlabel('Days in March',fontsize = 12)\n",
    "plt.ylabel('Temperature Values',fontsize = 12)\n",
    "plt.show()"
   ]
  },
  {
   "cell_type": "markdown",
   "metadata": {},
   "source": [
    "* the values are more or less consistent with few tall peaks observed on 4 or 5 days"
   ]
  },
  {
   "cell_type": "code",
   "execution_count": 293,
   "metadata": {},
   "outputs": [
    {
     "data": {
      "image/png": "[encoded data removed]",
      "text/plain": [
       "<matplotlib.figure.Figure at 0x21238d400f0>"
      ]
     },
     "metadata": {},
     "output_type": "display_data"
    }
   ],
   "source": [
    "sns.set_style(\"darkgrid\")\n",
    "plt.plot(df['Date'], df['humidity'])\n",
    "plt.xticks(rotation='vertical')\n",
    "plt.title('Humidity Variations in March',fontsize = 12)\n",
    "plt.xlabel('Days in March',fontsize = 12)\n",
    "plt.ylabel('Humidity Values',fontsize = 12)\n",
    "plt.show()"
   ]
  },
  {
   "cell_type": "markdown",
   "metadata": {},
   "source": [
    "* It is difficult to infer from this scale because of a large outlier but the values seems to be around each other"
   ]
  },
  {
   "cell_type": "code",
   "execution_count": 294,
   "metadata": {},
   "outputs": [
    {
     "data": {
      "image/png": "[encoded data removed]",
      "text/plain": [
       "<matplotlib.figure.Figure at 0x21238de9470>"
      ]
     },
     "metadata": {},
     "output_type": "display_data"
    }
   ],
   "source": [
    "sns.set_style(\"darkgrid\")\n",
    "plt.plot(df['Date'], df['light'])\n",
    "plt.xticks(rotation='vertical')\n",
    "plt.title('light Variations in March',fontsize = 12)\n",
    "plt.xlabel('Days in March',fontsize = 12)\n",
    "plt.ylabel('light Values',fontsize = 12)\n",
    "plt.show()"
   ]
  },
  {
   "cell_type": "markdown",
   "metadata": {},
   "source": [
    "- Uniform variations of light values with days in March"
   ]
  },
  {
   "cell_type": "code",
   "execution_count": 295,
   "metadata": {},
   "outputs": [
    {
     "data": {
      "image/png": "[encoded data removed]",
      "text/plain": [
       "<matplotlib.figure.Figure at 0x21266676ef0>"
      ]
     },
     "metadata": {},
     "output_type": "display_data"
    }
   ],
   "source": [
    "sns.set_style(\"darkgrid\")\n",
    "plt.plot(df['Date'], df['voltage'])\n",
    "plt.xticks(rotation='vertical')\n",
    "plt.title('Voltage Variations in March',fontsize = 12)\n",
    "plt.xlabel('Days in March',fontsize = 12)\n",
    "plt.ylabel('Voltage Values',fontsize = 12)\n",
    "plt.show()"
   ]
  },
  {
   "cell_type": "markdown",
   "metadata": {},
   "source": [
    "* The values are around 2.5 but there were days when thte voltage value recorded was out of range(2 V -3 V)"
   ]
  },
  {
   "cell_type": "code",
   "execution_count": 298,
   "metadata": {},
   "outputs": [
    {
     "data": {
      "text/plain": [
       "Date           datetime64[ns]\n",
       "epoch                   int64\n",
       "moteid                float64\n",
       "temperature           float64\n",
       "humidity              float64\n",
       "light                 float64\n",
       "voltage               float64\n",
       "hour                   object\n",
       "CovnHour               object\n",
       "dtype: object"
      ]
     },
     "execution_count": 298,
     "metadata": {},
     "output_type": "execute_result"
    }
   ],
   "source": [
    "data.dtypes"
   ]
  },
  {
   "cell_type": "code",
   "execution_count": 299,
   "metadata": {
    "collapsed": true
   },
   "outputs": [
    {
     "name": "stderr",
     "output_type": "stream",
     "text": [
      "C:\\Users\\adith\\Anaconda2\\envs\\py35\\lib\\site-packages\\ipykernel_launcher.py:1: SettingWithCopyWarning: \n",
      "A value is trying to be set on a copy of a slice from a DataFrame.\n",
      "Try using .loc[row_indexer,col_indexer] = value instead\n",
      "\n",
      "See the caveats in the documentation: http://pandas.pydata.org/pandas-docs/stable/indexing.html#indexing-view-versus-copy\n",
      "  \"\"\"Entry point for launching an IPython kernel.\n"
     ]
    }
   ],
   "source": [
    "MarchData['CovnHour'] = pd.to_datetime(MarchData['time'],format= '%H:%M:%S.%f',infer_datetime_format=True)\n",
    "#allow the framework to infer the date\n",
    "#all the timestamps are converted to datetime where the current date is appended\n",
    "#discard the current date\n"
   ]
  },
  {
   "cell_type": "code",
   "execution_count": 309,
   "metadata": {},
   "outputs": [
    {
     "name": "stderr",
     "output_type": "stream",
     "text": [
      "C:\\Users\\adith\\Anaconda2\\envs\\py35\\lib\\site-packages\\ipykernel_launcher.py:1: SettingWithCopyWarning: \n",
      "A value is trying to be set on a copy of a slice from a DataFrame.\n",
      "Try using .loc[row_indexer,col_indexer] = value instead\n",
      "\n",
      "See the caveats in the documentation: http://pandas.pydata.org/pandas-docs/stable/indexing.html#indexing-view-versus-copy\n",
      "  \"\"\"Entry point for launching an IPython kernel.\n"
     ]
    },
    {
     "data": {
      "text/plain": [
       "0           3\n",
       "2410        3\n",
       "2416        3\n",
       "2500        4\n",
       "2503        4\n",
       "2508        4\n",
       "2519        4\n",
       "2520        4\n",
       "2533        4\n",
       "3054        0\n",
       "3055        0\n",
       "3056        0\n",
       "3057        0\n",
       "3058        0\n",
       "3059        0\n",
       "3060        0\n",
       "3061        0\n",
       "3062        0\n",
       "3063        0\n",
       "3064        0\n",
       "3065        0\n",
       "3066        0\n",
       "3067        0\n",
       "3068        0\n",
       "3069        0\n",
       "3070        0\n",
       "3071        0\n",
       "3072        0\n",
       "3073        0\n",
       "3074        0\n",
       "           ..\n",
       "2313548    20\n",
       "2313549    20\n",
       "2313550    20\n",
       "2313551    20\n",
       "2313552    20\n",
       "2313553    20\n",
       "2313554    20\n",
       "2313555    20\n",
       "2313556    20\n",
       "2313557    20\n",
       "2313558    20\n",
       "2313559    21\n",
       "2313560    21\n",
       "2313561    21\n",
       "2313562    21\n",
       "2313563    21\n",
       "2313564    21\n",
       "2313565    21\n",
       "2313566    21\n",
       "2313567    21\n",
       "2313568    21\n",
       "2313569    21\n",
       "2313570    21\n",
       "2313571    22\n",
       "2313572    22\n",
       "2313573    22\n",
       "2313574    22\n",
       "2313575    22\n",
       "2313576    22\n",
       "2313577    22\n",
       "Name: Hour, Length: 2098459, dtype: int64"
      ]
     },
     "execution_count": 309,
     "metadata": {},
     "output_type": "execute_result"
    }
   ],
   "source": [
    "MarchData['Hour'] = MarchData['CovnHour'].dt.hour\n",
    "\n",
    "MarchData['Hour']"
   ]
  },
  {
   "cell_type": "code",
   "execution_count": 312,
   "metadata": {},
   "outputs": [
    {
     "data": {
      "text/plain": [
       "Date           datetime64[ns]\n",
       "time                   object\n",
       "epoch                   int64\n",
       "moteid                float64\n",
       "temperature           float64\n",
       "humidity              float64\n",
       "light                 float64\n",
       "voltage               float64\n",
       "CovnHour       datetime64[ns]\n",
       "Hour                    int64\n",
       "dtype: object"
      ]
     },
     "execution_count": 312,
     "metadata": {},
     "output_type": "execute_result"
    }
   ],
   "source": [
    "MarchData.dtypes"
   ]
  },
  {
   "cell_type": "code",
   "execution_count": 313,
   "metadata": {},
   "outputs": [
    {
     "data": {
      "text/plain": [
       "(array([ 0,  1,  2,  3,  4,  5,  6,  7,  8,  9, 10, 11, 12, 13, 14, 15, 16,\n",
       "        17, 18, 19, 20, 21, 22, 23]), <a list of 24 Text xticklabel objects>)"
      ]
     },
     "execution_count": 313,
     "metadata": {},
     "output_type": "execute_result"
    },
    {
     "data": {
      "image/png": "[encoded data removed]",
      "text/plain": [
       "<matplotlib.figure.Figure at 0x212362617f0>"
      ]
     },
     "metadata": {},
     "output_type": "display_data"
    }
   ],
   "source": [
    "sns.countplot(x = \"Hour\",data = MarchData,color = color[2])\n",
    "plt.ylabel('count of the number of items',fontsize = 12)\n",
    "plt.xlabel('Hour',fontsize = 12)\n",
    "plt.title('Frequency of collection by hours',fontsize = 14)\n",
    "plt.xticks(rotation= 'vertical')"
   ]
  },
  {
   "cell_type": "markdown",
   "metadata": {},
   "source": [
    "* The plot is mainly to check the number of observations by hour\n",
    "* looks like a uniform collection\n",
    "* Note - the sensor reading between x hours - y hours is considered at the x(th) hour"
   ]
  },
  {
   "cell_type": "code",
   "execution_count": 326,
   "metadata": {},
   "outputs": [
    {
     "data": {
      "text/html": [
       "<div>\n",
       "<style>\n",
       "    .dataframe thead tr:only-child th {\n",
       "        text-align: right;\n",
       "    }\n",
       "\n",
       "    .dataframe thead th {\n",
       "        text-align: left;\n",
       "    }\n",
       "\n",
       "    .dataframe tbody tr th {\n",
       "        vertical-align: top;\n",
       "    }\n",
       "</style>\n",
       "<table border=\"1\" class=\"dataframe\">\n",
       "  <thead>\n",
       "    <tr style=\"text-align: right;\">\n",
       "      <th></th>\n",
       "      <th>Date</th>\n",
       "      <th>time</th>\n",
       "      <th>epoch</th>\n",
       "      <th>moteid</th>\n",
       "      <th>temperature</th>\n",
       "      <th>humidity</th>\n",
       "      <th>light</th>\n",
       "      <th>voltage</th>\n",
       "      <th>CovnHour</th>\n",
       "      <th>Hour</th>\n",
       "      <th>only_date</th>\n",
       "    </tr>\n",
       "  </thead>\n",
       "  <tbody>\n",
       "    <tr>\n",
       "      <th>0</th>\n",
       "      <td>2004-03-31</td>\n",
       "      <td>03:38:15.757551</td>\n",
       "      <td>2</td>\n",
       "      <td>1.000</td>\n",
       "      <td>122.153</td>\n",
       "      <td>-3.919</td>\n",
       "      <td>11.040</td>\n",
       "      <td>2.034</td>\n",
       "      <td>2018-03-08 03:38:15.757551</td>\n",
       "      <td>3</td>\n",
       "      <td>2004-03-31</td>\n",
       "    </tr>\n",
       "    <tr>\n",
       "      <th>2410</th>\n",
       "      <td>2004-03-31</td>\n",
       "      <td>03:22:19.705081</td>\n",
       "      <td>4611</td>\n",
       "      <td>1.000</td>\n",
       "      <td>122.153</td>\n",
       "      <td>-3.919</td>\n",
       "      <td>10.120</td>\n",
       "      <td>2.048</td>\n",
       "      <td>2018-03-08 03:22:19.705081</td>\n",
       "      <td>3</td>\n",
       "      <td>2004-03-31</td>\n",
       "    </tr>\n",
       "    <tr>\n",
       "      <th>2416</th>\n",
       "      <td>2004-03-31</td>\n",
       "      <td>03:26:15.556275</td>\n",
       "      <td>4619</td>\n",
       "      <td>1.000</td>\n",
       "      <td>122.153</td>\n",
       "      <td>-3.919</td>\n",
       "      <td>10.120</td>\n",
       "      <td>2.048</td>\n",
       "      <td>2018-03-08 03:26:15.556275</td>\n",
       "      <td>3</td>\n",
       "      <td>2004-03-31</td>\n",
       "    </tr>\n",
       "    <tr>\n",
       "      <th>2500</th>\n",
       "      <td>2004-03-31</td>\n",
       "      <td>04:31:15.650149</td>\n",
       "      <td>4749</td>\n",
       "      <td>1.000</td>\n",
       "      <td>121.997</td>\n",
       "      <td>-1.419</td>\n",
       "      <td>9.200</td>\n",
       "      <td>2.013</td>\n",
       "      <td>2018-03-08 04:31:15.650149</td>\n",
       "      <td>4</td>\n",
       "      <td>2004-03-31</td>\n",
       "    </tr>\n",
       "    <tr>\n",
       "      <th>2503</th>\n",
       "      <td>2004-03-31</td>\n",
       "      <td>04:35:02.327003</td>\n",
       "      <td>4756</td>\n",
       "      <td>1.000</td>\n",
       "      <td>121.977</td>\n",
       "      <td>-0.458</td>\n",
       "      <td>9.200</td>\n",
       "      <td>2.013</td>\n",
       "      <td>2018-03-08 04:35:02.327003</td>\n",
       "      <td>4</td>\n",
       "      <td>2004-03-31</td>\n",
       "    </tr>\n",
       "    <tr>\n",
       "      <th>2508</th>\n",
       "      <td>2004-03-31</td>\n",
       "      <td>04:38:45.982845</td>\n",
       "      <td>4764</td>\n",
       "      <td>1.000</td>\n",
       "      <td>121.918</td>\n",
       "      <td>4.774</td>\n",
       "      <td>9.200</td>\n",
       "      <td>2.013</td>\n",
       "      <td>2018-03-08 04:38:45.982845</td>\n",
       "      <td>4</td>\n",
       "      <td>2004-03-31</td>\n",
       "    </tr>\n",
       "    <tr>\n",
       "      <th>2519</th>\n",
       "      <td>2004-03-31</td>\n",
       "      <td>04:49:51.67373</td>\n",
       "      <td>4786</td>\n",
       "      <td>1.000</td>\n",
       "      <td>122.153</td>\n",
       "      <td>8.673</td>\n",
       "      <td>9.200</td>\n",
       "      <td>2.006</td>\n",
       "      <td>2018-03-08 04:49:51.673730</td>\n",
       "      <td>4</td>\n",
       "      <td>2004-03-31</td>\n",
       "    </tr>\n",
       "    <tr>\n",
       "      <th>2520</th>\n",
       "      <td>2004-03-31</td>\n",
       "      <td>04:50:21.140853</td>\n",
       "      <td>4787</td>\n",
       "      <td>1.000</td>\n",
       "      <td>121.526</td>\n",
       "      <td>7.198</td>\n",
       "      <td>9.200</td>\n",
       "      <td>2.006</td>\n",
       "      <td>2018-03-08 04:50:21.140853</td>\n",
       "      <td>4</td>\n",
       "      <td>2004-03-31</td>\n",
       "    </tr>\n",
       "    <tr>\n",
       "      <th>2533</th>\n",
       "      <td>2004-03-31</td>\n",
       "      <td>04:59:46.620093</td>\n",
       "      <td>4806</td>\n",
       "      <td>1.000</td>\n",
       "      <td>121.997</td>\n",
       "      <td>14.946</td>\n",
       "      <td>8.280</td>\n",
       "      <td>2.006</td>\n",
       "      <td>2018-03-08 04:59:46.620093</td>\n",
       "      <td>4</td>\n",
       "      <td>2004-03-31</td>\n",
       "    </tr>\n",
       "    <tr>\n",
       "      <th>3054</th>\n",
       "      <td>2004-03-01</td>\n",
       "      <td>00:01:57.13085</td>\n",
       "      <td>5648</td>\n",
       "      <td>1.000</td>\n",
       "      <td>18.450</td>\n",
       "      <td>43.119</td>\n",
       "      <td>43.240</td>\n",
       "      <td>2.675</td>\n",
       "      <td>2018-03-08 00:01:57.130850</td>\n",
       "      <td>0</td>\n",
       "      <td>2004-03-01</td>\n",
       "    </tr>\n",
       "    <tr>\n",
       "      <th>3055</th>\n",
       "      <td>2004-03-01</td>\n",
       "      <td>00:02:50.458234</td>\n",
       "      <td>5650</td>\n",
       "      <td>1.000</td>\n",
       "      <td>18.440</td>\n",
       "      <td>43.086</td>\n",
       "      <td>43.240</td>\n",
       "      <td>2.663</td>\n",
       "      <td>2018-03-08 00:02:50.458234</td>\n",
       "      <td>0</td>\n",
       "      <td>2004-03-01</td>\n",
       "    </tr>\n",
       "    <tr>\n",
       "      <th>3056</th>\n",
       "      <td>2004-03-01</td>\n",
       "      <td>00:04:26.606602</td>\n",
       "      <td>5653</td>\n",
       "      <td>1.000</td>\n",
       "      <td>18.440</td>\n",
       "      <td>43.119</td>\n",
       "      <td>43.240</td>\n",
       "      <td>2.651</td>\n",
       "      <td>2018-03-08 00:04:26.606602</td>\n",
       "      <td>0</td>\n",
       "      <td>2004-03-01</td>\n",
       "    </tr>\n",
       "    <tr>\n",
       "      <th>3057</th>\n",
       "      <td>2004-03-01</td>\n",
       "      <td>00:05:28.379208</td>\n",
       "      <td>5655</td>\n",
       "      <td>1.000</td>\n",
       "      <td>18.450</td>\n",
       "      <td>43.052</td>\n",
       "      <td>43.240</td>\n",
       "      <td>2.651</td>\n",
       "      <td>2018-03-08 00:05:28.379208</td>\n",
       "      <td>0</td>\n",
       "      <td>2004-03-01</td>\n",
       "    </tr>\n",
       "    <tr>\n",
       "      <th>3058</th>\n",
       "      <td>2004-03-01</td>\n",
       "      <td>00:05:50.456126</td>\n",
       "      <td>5656</td>\n",
       "      <td>1.000</td>\n",
       "      <td>18.430</td>\n",
       "      <td>43.153</td>\n",
       "      <td>43.240</td>\n",
       "      <td>2.663</td>\n",
       "      <td>2018-03-08 00:05:50.456126</td>\n",
       "      <td>0</td>\n",
       "      <td>2004-03-01</td>\n",
       "    </tr>\n",
       "    <tr>\n",
       "      <th>3059</th>\n",
       "      <td>2004-03-01</td>\n",
       "      <td>00:09:26.66726</td>\n",
       "      <td>5663</td>\n",
       "      <td>1.000</td>\n",
       "      <td>18.440</td>\n",
       "      <td>43.186</td>\n",
       "      <td>43.240</td>\n",
       "      <td>2.663</td>\n",
       "      <td>2018-03-08 00:09:26.667260</td>\n",
       "      <td>0</td>\n",
       "      <td>2004-03-01</td>\n",
       "    </tr>\n",
       "    <tr>\n",
       "      <th>3060</th>\n",
       "      <td>2004-03-01</td>\n",
       "      <td>00:09:50.555614</td>\n",
       "      <td>5664</td>\n",
       "      <td>1.000</td>\n",
       "      <td>18.430</td>\n",
       "      <td>43.252</td>\n",
       "      <td>43.240</td>\n",
       "      <td>2.651</td>\n",
       "      <td>2018-03-08 00:09:50.555614</td>\n",
       "      <td>0</td>\n",
       "      <td>2004-03-01</td>\n",
       "    </tr>\n",
       "    <tr>\n",
       "      <th>3061</th>\n",
       "      <td>2004-03-01</td>\n",
       "      <td>00:10:21.292328</td>\n",
       "      <td>5665</td>\n",
       "      <td>1.000</td>\n",
       "      <td>18.430</td>\n",
       "      <td>43.252</td>\n",
       "      <td>43.240</td>\n",
       "      <td>2.651</td>\n",
       "      <td>2018-03-08 00:10:21.292328</td>\n",
       "      <td>0</td>\n",
       "      <td>2004-03-01</td>\n",
       "    </tr>\n",
       "    <tr>\n",
       "      <th>3062</th>\n",
       "      <td>2004-03-01</td>\n",
       "      <td>00:13:51.235241</td>\n",
       "      <td>5672</td>\n",
       "      <td>1.000</td>\n",
       "      <td>18.430</td>\n",
       "      <td>43.286</td>\n",
       "      <td>43.240</td>\n",
       "      <td>2.675</td>\n",
       "      <td>2018-03-08 00:13:51.235241</td>\n",
       "      <td>0</td>\n",
       "      <td>2004-03-01</td>\n",
       "    </tr>\n",
       "    <tr>\n",
       "      <th>3063</th>\n",
       "      <td>2004-03-01</td>\n",
       "      <td>00:18:26.373102</td>\n",
       "      <td>5681</td>\n",
       "      <td>1.000</td>\n",
       "      <td>18.391</td>\n",
       "      <td>43.386</td>\n",
       "      <td>43.240</td>\n",
       "      <td>2.663</td>\n",
       "      <td>2018-03-08 00:18:26.373102</td>\n",
       "      <td>0</td>\n",
       "      <td>2004-03-01</td>\n",
       "    </tr>\n",
       "    <tr>\n",
       "      <th>3064</th>\n",
       "      <td>2004-03-01</td>\n",
       "      <td>00:18:50.532116</td>\n",
       "      <td>5682</td>\n",
       "      <td>1.000</td>\n",
       "      <td>18.391</td>\n",
       "      <td>43.352</td>\n",
       "      <td>43.240</td>\n",
       "      <td>2.651</td>\n",
       "      <td>2018-03-08 00:18:50.532116</td>\n",
       "      <td>0</td>\n",
       "      <td>2004-03-01</td>\n",
       "    </tr>\n",
       "    <tr>\n",
       "      <th>3065</th>\n",
       "      <td>2004-03-01</td>\n",
       "      <td>00:19:55.65327</td>\n",
       "      <td>5684</td>\n",
       "      <td>1.000</td>\n",
       "      <td>18.391</td>\n",
       "      <td>43.352</td>\n",
       "      <td>43.240</td>\n",
       "      <td>2.651</td>\n",
       "      <td>2018-03-08 00:19:55.653270</td>\n",
       "      <td>0</td>\n",
       "      <td>2004-03-01</td>\n",
       "    </tr>\n",
       "    <tr>\n",
       "      <th>3066</th>\n",
       "      <td>2004-03-01</td>\n",
       "      <td>00:20:51.038547</td>\n",
       "      <td>5686</td>\n",
       "      <td>1.000</td>\n",
       "      <td>18.391</td>\n",
       "      <td>43.219</td>\n",
       "      <td>43.240</td>\n",
       "      <td>2.651</td>\n",
       "      <td>2018-03-08 00:20:51.038547</td>\n",
       "      <td>0</td>\n",
       "      <td>2004-03-01</td>\n",
       "    </tr>\n",
       "    <tr>\n",
       "      <th>3067</th>\n",
       "      <td>2004-03-01</td>\n",
       "      <td>00:22:21.258777</td>\n",
       "      <td>5689</td>\n",
       "      <td>1.000</td>\n",
       "      <td>18.381</td>\n",
       "      <td>43.286</td>\n",
       "      <td>43.240</td>\n",
       "      <td>2.663</td>\n",
       "      <td>2018-03-08 00:22:21.258777</td>\n",
       "      <td>0</td>\n",
       "      <td>2004-03-01</td>\n",
       "    </tr>\n",
       "    <tr>\n",
       "      <th>3068</th>\n",
       "      <td>2004-03-01</td>\n",
       "      <td>00:22:50.505144</td>\n",
       "      <td>5690</td>\n",
       "      <td>1.000</td>\n",
       "      <td>18.391</td>\n",
       "      <td>43.319</td>\n",
       "      <td>43.240</td>\n",
       "      <td>2.663</td>\n",
       "      <td>2018-03-08 00:22:50.505144</td>\n",
       "      <td>0</td>\n",
       "      <td>2004-03-01</td>\n",
       "    </tr>\n",
       "    <tr>\n",
       "      <th>3069</th>\n",
       "      <td>2004-03-01</td>\n",
       "      <td>00:24:20.373476</td>\n",
       "      <td>5693</td>\n",
       "      <td>1.000</td>\n",
       "      <td>18.381</td>\n",
       "      <td>43.386</td>\n",
       "      <td>43.240</td>\n",
       "      <td>2.651</td>\n",
       "      <td>2018-03-08 00:24:20.373476</td>\n",
       "      <td>0</td>\n",
       "      <td>2004-03-01</td>\n",
       "    </tr>\n",
       "    <tr>\n",
       "      <th>3070</th>\n",
       "      <td>2004-03-01</td>\n",
       "      <td>00:24:59.34552</td>\n",
       "      <td>5694</td>\n",
       "      <td>1.000</td>\n",
       "      <td>18.362</td>\n",
       "      <td>43.386</td>\n",
       "      <td>43.240</td>\n",
       "      <td>2.663</td>\n",
       "      <td>2018-03-08 00:24:59.345520</td>\n",
       "      <td>0</td>\n",
       "      <td>2004-03-01</td>\n",
       "    </tr>\n",
       "    <tr>\n",
       "      <th>3071</th>\n",
       "      <td>2004-03-01</td>\n",
       "      <td>00:25:53.612508</td>\n",
       "      <td>5696</td>\n",
       "      <td>1.000</td>\n",
       "      <td>18.381</td>\n",
       "      <td>43.352</td>\n",
       "      <td>43.240</td>\n",
       "      <td>2.663</td>\n",
       "      <td>2018-03-08 00:25:53.612508</td>\n",
       "      <td>0</td>\n",
       "      <td>2004-03-01</td>\n",
       "    </tr>\n",
       "    <tr>\n",
       "      <th>3072</th>\n",
       "      <td>2004-03-01</td>\n",
       "      <td>00:26:22.379146</td>\n",
       "      <td>5697</td>\n",
       "      <td>1.000</td>\n",
       "      <td>18.391</td>\n",
       "      <td>43.452</td>\n",
       "      <td>43.240</td>\n",
       "      <td>2.663</td>\n",
       "      <td>2018-03-08 00:26:22.379146</td>\n",
       "      <td>0</td>\n",
       "      <td>2004-03-01</td>\n",
       "    </tr>\n",
       "    <tr>\n",
       "      <th>3073</th>\n",
       "      <td>2004-03-01</td>\n",
       "      <td>00:26:54.475448</td>\n",
       "      <td>5698</td>\n",
       "      <td>1.000</td>\n",
       "      <td>18.381</td>\n",
       "      <td>43.452</td>\n",
       "      <td>43.240</td>\n",
       "      <td>2.651</td>\n",
       "      <td>2018-03-08 00:26:54.475448</td>\n",
       "      <td>0</td>\n",
       "      <td>2004-03-01</td>\n",
       "    </tr>\n",
       "    <tr>\n",
       "      <th>3074</th>\n",
       "      <td>2004-03-01</td>\n",
       "      <td>00:27:25.385599</td>\n",
       "      <td>5699</td>\n",
       "      <td>1.000</td>\n",
       "      <td>18.371</td>\n",
       "      <td>43.519</td>\n",
       "      <td>43.240</td>\n",
       "      <td>2.663</td>\n",
       "      <td>2018-03-08 00:27:25.385599</td>\n",
       "      <td>0</td>\n",
       "      <td>2004-03-01</td>\n",
       "    </tr>\n",
       "    <tr>\n",
       "      <th>...</th>\n",
       "      <td>...</td>\n",
       "      <td>...</td>\n",
       "      <td>...</td>\n",
       "      <td>...</td>\n",
       "      <td>...</td>\n",
       "      <td>...</td>\n",
       "      <td>...</td>\n",
       "      <td>...</td>\n",
       "      <td>...</td>\n",
       "      <td>...</td>\n",
       "      <td>...</td>\n",
       "    </tr>\n",
       "    <tr>\n",
       "      <th>2313548</th>\n",
       "      <td>2004-03-31</td>\n",
       "      <td>20:19:53.815964</td>\n",
       "      <td>58009</td>\n",
       "      <td>nan</td>\n",
       "      <td>nan</td>\n",
       "      <td>nan</td>\n",
       "      <td>nan</td>\n",
       "      <td>nan</td>\n",
       "      <td>2018-03-08 20:19:53.815964</td>\n",
       "      <td>20</td>\n",
       "      <td>2004-03-31</td>\n",
       "    </tr>\n",
       "    <tr>\n",
       "      <th>2313549</th>\n",
       "      <td>2004-03-31</td>\n",
       "      <td>20:25:58.769727</td>\n",
       "      <td>58019</td>\n",
       "      <td>nan</td>\n",
       "      <td>nan</td>\n",
       "      <td>nan</td>\n",
       "      <td>nan</td>\n",
       "      <td>nan</td>\n",
       "      <td>2018-03-08 20:25:58.769727</td>\n",
       "      <td>20</td>\n",
       "      <td>2004-03-31</td>\n",
       "    </tr>\n",
       "    <tr>\n",
       "      <th>2313550</th>\n",
       "      <td>2004-03-31</td>\n",
       "      <td>20:28:54.172879</td>\n",
       "      <td>58026</td>\n",
       "      <td>nan</td>\n",
       "      <td>nan</td>\n",
       "      <td>nan</td>\n",
       "      <td>nan</td>\n",
       "      <td>nan</td>\n",
       "      <td>2018-03-08 20:28:54.172879</td>\n",
       "      <td>20</td>\n",
       "      <td>2004-03-31</td>\n",
       "    </tr>\n",
       "    <tr>\n",
       "      <th>2313551</th>\n",
       "      <td>2004-03-31</td>\n",
       "      <td>20:34:46.727971</td>\n",
       "      <td>58038</td>\n",
       "      <td>nan</td>\n",
       "      <td>nan</td>\n",
       "      <td>nan</td>\n",
       "      <td>nan</td>\n",
       "      <td>nan</td>\n",
       "      <td>2018-03-08 20:34:46.727971</td>\n",
       "      <td>20</td>\n",
       "      <td>2004-03-31</td>\n",
       "    </tr>\n",
       "    <tr>\n",
       "      <th>2313552</th>\n",
       "      <td>2004-03-31</td>\n",
       "      <td>20:37:45.962685</td>\n",
       "      <td>58043</td>\n",
       "      <td>nan</td>\n",
       "      <td>nan</td>\n",
       "      <td>nan</td>\n",
       "      <td>nan</td>\n",
       "      <td>nan</td>\n",
       "      <td>2018-03-08 20:37:45.962685</td>\n",
       "      <td>20</td>\n",
       "      <td>2004-03-31</td>\n",
       "    </tr>\n",
       "    <tr>\n",
       "      <th>2313553</th>\n",
       "      <td>2004-03-31</td>\n",
       "      <td>20:40:46.089561</td>\n",
       "      <td>58050</td>\n",
       "      <td>nan</td>\n",
       "      <td>nan</td>\n",
       "      <td>nan</td>\n",
       "      <td>nan</td>\n",
       "      <td>nan</td>\n",
       "      <td>2018-03-08 20:40:46.089561</td>\n",
       "      <td>20</td>\n",
       "      <td>2004-03-31</td>\n",
       "    </tr>\n",
       "    <tr>\n",
       "      <th>2313554</th>\n",
       "      <td>2004-03-31</td>\n",
       "      <td>20:43:46.576023</td>\n",
       "      <td>58055</td>\n",
       "      <td>nan</td>\n",
       "      <td>nan</td>\n",
       "      <td>nan</td>\n",
       "      <td>nan</td>\n",
       "      <td>nan</td>\n",
       "      <td>2018-03-08 20:43:46.576023</td>\n",
       "      <td>20</td>\n",
       "      <td>2004-03-31</td>\n",
       "    </tr>\n",
       "    <tr>\n",
       "      <th>2313555</th>\n",
       "      <td>2004-03-31</td>\n",
       "      <td>20:46:46.544939</td>\n",
       "      <td>58060</td>\n",
       "      <td>nan</td>\n",
       "      <td>nan</td>\n",
       "      <td>nan</td>\n",
       "      <td>nan</td>\n",
       "      <td>nan</td>\n",
       "      <td>2018-03-08 20:46:46.544939</td>\n",
       "      <td>20</td>\n",
       "      <td>2004-03-31</td>\n",
       "    </tr>\n",
       "    <tr>\n",
       "      <th>2313556</th>\n",
       "      <td>2004-03-31</td>\n",
       "      <td>20:49:46.784824</td>\n",
       "      <td>58061</td>\n",
       "      <td>nan</td>\n",
       "      <td>nan</td>\n",
       "      <td>nan</td>\n",
       "      <td>nan</td>\n",
       "      <td>nan</td>\n",
       "      <td>2018-03-08 20:49:46.784824</td>\n",
       "      <td>20</td>\n",
       "      <td>2004-03-31</td>\n",
       "    </tr>\n",
       "    <tr>\n",
       "      <th>2313557</th>\n",
       "      <td>2004-03-31</td>\n",
       "      <td>20:52:46.935716</td>\n",
       "      <td>58062</td>\n",
       "      <td>nan</td>\n",
       "      <td>nan</td>\n",
       "      <td>nan</td>\n",
       "      <td>nan</td>\n",
       "      <td>nan</td>\n",
       "      <td>2018-03-08 20:52:46.935716</td>\n",
       "      <td>20</td>\n",
       "      <td>2004-03-31</td>\n",
       "    </tr>\n",
       "    <tr>\n",
       "      <th>2313558</th>\n",
       "      <td>2004-03-31</td>\n",
       "      <td>20:58:47.011153</td>\n",
       "      <td>58064</td>\n",
       "      <td>nan</td>\n",
       "      <td>nan</td>\n",
       "      <td>nan</td>\n",
       "      <td>nan</td>\n",
       "      <td>nan</td>\n",
       "      <td>2018-03-08 20:58:47.011153</td>\n",
       "      <td>20</td>\n",
       "      <td>2004-03-31</td>\n",
       "    </tr>\n",
       "    <tr>\n",
       "      <th>2313559</th>\n",
       "      <td>2004-03-31</td>\n",
       "      <td>21:01:46.946128</td>\n",
       "      <td>58065</td>\n",
       "      <td>nan</td>\n",
       "      <td>nan</td>\n",
       "      <td>nan</td>\n",
       "      <td>nan</td>\n",
       "      <td>nan</td>\n",
       "      <td>2018-03-08 21:01:46.946128</td>\n",
       "      <td>21</td>\n",
       "      <td>2004-03-31</td>\n",
       "    </tr>\n",
       "    <tr>\n",
       "      <th>2313560</th>\n",
       "      <td>2004-03-31</td>\n",
       "      <td>21:04:49.354182</td>\n",
       "      <td>58066</td>\n",
       "      <td>nan</td>\n",
       "      <td>nan</td>\n",
       "      <td>nan</td>\n",
       "      <td>nan</td>\n",
       "      <td>nan</td>\n",
       "      <td>2018-03-08 21:04:49.354182</td>\n",
       "      <td>21</td>\n",
       "      <td>2004-03-31</td>\n",
       "    </tr>\n",
       "    <tr>\n",
       "      <th>2313561</th>\n",
       "      <td>2004-03-31</td>\n",
       "      <td>21:13:51.914845</td>\n",
       "      <td>58069</td>\n",
       "      <td>nan</td>\n",
       "      <td>nan</td>\n",
       "      <td>nan</td>\n",
       "      <td>nan</td>\n",
       "      <td>nan</td>\n",
       "      <td>2018-03-08 21:13:51.914845</td>\n",
       "      <td>21</td>\n",
       "      <td>2004-03-31</td>\n",
       "    </tr>\n",
       "    <tr>\n",
       "      <th>2313562</th>\n",
       "      <td>2004-03-31</td>\n",
       "      <td>21:16:58.641448</td>\n",
       "      <td>58070</td>\n",
       "      <td>nan</td>\n",
       "      <td>nan</td>\n",
       "      <td>nan</td>\n",
       "      <td>nan</td>\n",
       "      <td>nan</td>\n",
       "      <td>2018-03-08 21:16:58.641448</td>\n",
       "      <td>21</td>\n",
       "      <td>2004-03-31</td>\n",
       "    </tr>\n",
       "    <tr>\n",
       "      <th>2313563</th>\n",
       "      <td>2004-03-31</td>\n",
       "      <td>21:19:51.997364</td>\n",
       "      <td>58071</td>\n",
       "      <td>nan</td>\n",
       "      <td>nan</td>\n",
       "      <td>nan</td>\n",
       "      <td>nan</td>\n",
       "      <td>nan</td>\n",
       "      <td>2018-03-08 21:19:51.997364</td>\n",
       "      <td>21</td>\n",
       "      <td>2004-03-31</td>\n",
       "    </tr>\n",
       "    <tr>\n",
       "      <th>2313564</th>\n",
       "      <td>2004-03-31</td>\n",
       "      <td>21:22:56.175972</td>\n",
       "      <td>58072</td>\n",
       "      <td>nan</td>\n",
       "      <td>nan</td>\n",
       "      <td>nan</td>\n",
       "      <td>nan</td>\n",
       "      <td>nan</td>\n",
       "      <td>2018-03-08 21:22:56.175972</td>\n",
       "      <td>21</td>\n",
       "      <td>2004-03-31</td>\n",
       "    </tr>\n",
       "    <tr>\n",
       "      <th>2313565</th>\n",
       "      <td>2004-03-31</td>\n",
       "      <td>21:31:58.562225</td>\n",
       "      <td>58075</td>\n",
       "      <td>nan</td>\n",
       "      <td>nan</td>\n",
       "      <td>nan</td>\n",
       "      <td>nan</td>\n",
       "      <td>nan</td>\n",
       "      <td>2018-03-08 21:31:58.562225</td>\n",
       "      <td>21</td>\n",
       "      <td>2004-03-31</td>\n",
       "    </tr>\n",
       "    <tr>\n",
       "      <th>2313566</th>\n",
       "      <td>2004-03-31</td>\n",
       "      <td>21:34:56.488285</td>\n",
       "      <td>58076</td>\n",
       "      <td>nan</td>\n",
       "      <td>nan</td>\n",
       "      <td>nan</td>\n",
       "      <td>nan</td>\n",
       "      <td>nan</td>\n",
       "      <td>2018-03-08 21:34:56.488285</td>\n",
       "      <td>21</td>\n",
       "      <td>2004-03-31</td>\n",
       "    </tr>\n",
       "    <tr>\n",
       "      <th>2313567</th>\n",
       "      <td>2004-03-31</td>\n",
       "      <td>21:37:56.604453</td>\n",
       "      <td>58077</td>\n",
       "      <td>nan</td>\n",
       "      <td>nan</td>\n",
       "      <td>nan</td>\n",
       "      <td>nan</td>\n",
       "      <td>nan</td>\n",
       "      <td>2018-03-08 21:37:56.604453</td>\n",
       "      <td>21</td>\n",
       "      <td>2004-03-31</td>\n",
       "    </tr>\n",
       "    <tr>\n",
       "      <th>2313568</th>\n",
       "      <td>2004-03-31</td>\n",
       "      <td>21:40:54.135242</td>\n",
       "      <td>58078</td>\n",
       "      <td>nan</td>\n",
       "      <td>nan</td>\n",
       "      <td>nan</td>\n",
       "      <td>nan</td>\n",
       "      <td>nan</td>\n",
       "      <td>2018-03-08 21:40:54.135242</td>\n",
       "      <td>21</td>\n",
       "      <td>2004-03-31</td>\n",
       "    </tr>\n",
       "    <tr>\n",
       "      <th>2313569</th>\n",
       "      <td>2004-03-31</td>\n",
       "      <td>21:43:56.548277</td>\n",
       "      <td>58079</td>\n",
       "      <td>nan</td>\n",
       "      <td>nan</td>\n",
       "      <td>nan</td>\n",
       "      <td>nan</td>\n",
       "      <td>nan</td>\n",
       "      <td>2018-03-08 21:43:56.548277</td>\n",
       "      <td>21</td>\n",
       "      <td>2004-03-31</td>\n",
       "    </tr>\n",
       "    <tr>\n",
       "      <th>2313570</th>\n",
       "      <td>2004-03-31</td>\n",
       "      <td>21:58:58.699024</td>\n",
       "      <td>58083</td>\n",
       "      <td>nan</td>\n",
       "      <td>nan</td>\n",
       "      <td>nan</td>\n",
       "      <td>nan</td>\n",
       "      <td>nan</td>\n",
       "      <td>2018-03-08 21:58:58.699024</td>\n",
       "      <td>21</td>\n",
       "      <td>2004-03-31</td>\n",
       "    </tr>\n",
       "    <tr>\n",
       "      <th>2313571</th>\n",
       "      <td>2004-03-31</td>\n",
       "      <td>22:01:56.513649</td>\n",
       "      <td>58084</td>\n",
       "      <td>nan</td>\n",
       "      <td>nan</td>\n",
       "      <td>nan</td>\n",
       "      <td>nan</td>\n",
       "      <td>nan</td>\n",
       "      <td>2018-03-08 22:01:56.513649</td>\n",
       "      <td>22</td>\n",
       "      <td>2004-03-31</td>\n",
       "    </tr>\n",
       "    <tr>\n",
       "      <th>2313572</th>\n",
       "      <td>2004-03-31</td>\n",
       "      <td>22:04:56.679831</td>\n",
       "      <td>58085</td>\n",
       "      <td>nan</td>\n",
       "      <td>nan</td>\n",
       "      <td>nan</td>\n",
       "      <td>nan</td>\n",
       "      <td>nan</td>\n",
       "      <td>2018-03-08 22:04:56.679831</td>\n",
       "      <td>22</td>\n",
       "      <td>2004-03-31</td>\n",
       "    </tr>\n",
       "    <tr>\n",
       "      <th>2313573</th>\n",
       "      <td>2004-03-31</td>\n",
       "      <td>22:08:00.757638</td>\n",
       "      <td>58086</td>\n",
       "      <td>nan</td>\n",
       "      <td>nan</td>\n",
       "      <td>nan</td>\n",
       "      <td>nan</td>\n",
       "      <td>nan</td>\n",
       "      <td>2018-03-08 22:08:00.757638</td>\n",
       "      <td>22</td>\n",
       "      <td>2004-03-31</td>\n",
       "    </tr>\n",
       "    <tr>\n",
       "      <th>2313574</th>\n",
       "      <td>2004-03-31</td>\n",
       "      <td>22:10:56.473618</td>\n",
       "      <td>58087</td>\n",
       "      <td>nan</td>\n",
       "      <td>nan</td>\n",
       "      <td>nan</td>\n",
       "      <td>nan</td>\n",
       "      <td>nan</td>\n",
       "      <td>2018-03-08 22:10:56.473618</td>\n",
       "      <td>22</td>\n",
       "      <td>2004-03-31</td>\n",
       "    </tr>\n",
       "    <tr>\n",
       "      <th>2313575</th>\n",
       "      <td>2004-03-31</td>\n",
       "      <td>22:22:58.808297</td>\n",
       "      <td>58090</td>\n",
       "      <td>nan</td>\n",
       "      <td>nan</td>\n",
       "      <td>nan</td>\n",
       "      <td>nan</td>\n",
       "      <td>nan</td>\n",
       "      <td>2018-03-08 22:22:58.808297</td>\n",
       "      <td>22</td>\n",
       "      <td>2004-03-31</td>\n",
       "    </tr>\n",
       "    <tr>\n",
       "      <th>2313576</th>\n",
       "      <td>2004-03-31</td>\n",
       "      <td>22:26:00.155166</td>\n",
       "      <td>58091</td>\n",
       "      <td>nan</td>\n",
       "      <td>nan</td>\n",
       "      <td>nan</td>\n",
       "      <td>nan</td>\n",
       "      <td>nan</td>\n",
       "      <td>2018-03-08 22:26:00.155166</td>\n",
       "      <td>22</td>\n",
       "      <td>2004-03-31</td>\n",
       "    </tr>\n",
       "    <tr>\n",
       "      <th>2313577</th>\n",
       "      <td>2004-03-31</td>\n",
       "      <td>22:34:54.382752</td>\n",
       "      <td>58093</td>\n",
       "      <td>nan</td>\n",
       "      <td>nan</td>\n",
       "      <td>nan</td>\n",
       "      <td>nan</td>\n",
       "      <td>nan</td>\n",
       "      <td>2018-03-08 22:34:54.382752</td>\n",
       "      <td>22</td>\n",
       "      <td>2004-03-31</td>\n",
       "    </tr>\n",
       "  </tbody>\n",
       "</table>\n",
       "<p>2098459 rows × 11 columns</p>\n",
       "</div>"
      ],
      "text/plain": [
       "              Date             time  epoch  moteid  temperature  humidity  \\\n",
       "0       2004-03-31  03:38:15.757551      2   1.000      122.153    -3.919   \n",
       "2410    2004-03-31  03:22:19.705081   4611   1.000      122.153    -3.919   \n",
       "2416    2004-03-31  03:26:15.556275   4619   1.000      122.153    -3.919   \n",
       "2500    2004-03-31  04:31:15.650149   4749   1.000      121.997    -1.419   \n",
       "2503    2004-03-31  04:35:02.327003   4756   1.000      121.977    -0.458   \n",
       "2508    2004-03-31  04:38:45.982845   4764   1.000      121.918     4.774   \n",
       "2519    2004-03-31   04:49:51.67373   4786   1.000      122.153     8.673   \n",
       "2520    2004-03-31  04:50:21.140853   4787   1.000      121.526     7.198   \n",
       "2533    2004-03-31  04:59:46.620093   4806   1.000      121.997    14.946   \n",
       "3054    2004-03-01   00:01:57.13085   5648   1.000       18.450    43.119   \n",
       "3055    2004-03-01  00:02:50.458234   5650   1.000       18.440    43.086   \n",
       "3056    2004-03-01  00:04:26.606602   5653   1.000       18.440    43.119   \n",
       "3057    2004-03-01  00:05:28.379208   5655   1.000       18.450    43.052   \n",
       "3058    2004-03-01  00:05:50.456126   5656   1.000       18.430    43.153   \n",
       "3059    2004-03-01   00:09:26.66726   5663   1.000       18.440    43.186   \n",
       "3060    2004-03-01  00:09:50.555614   5664   1.000       18.430    43.252   \n",
       "3061    2004-03-01  00:10:21.292328   5665   1.000       18.430    43.252   \n",
       "3062    2004-03-01  00:13:51.235241   5672   1.000       18.430    43.286   \n",
       "3063    2004-03-01  00:18:26.373102   5681   1.000       18.391    43.386   \n",
       "3064    2004-03-01  00:18:50.532116   5682   1.000       18.391    43.352   \n",
       "3065    2004-03-01   00:19:55.65327   5684   1.000       18.391    43.352   \n",
       "3066    2004-03-01  00:20:51.038547   5686   1.000       18.391    43.219   \n",
       "3067    2004-03-01  00:22:21.258777   5689   1.000       18.381    43.286   \n",
       "3068    2004-03-01  00:22:50.505144   5690   1.000       18.391    43.319   \n",
       "3069    2004-03-01  00:24:20.373476   5693   1.000       18.381    43.386   \n",
       "3070    2004-03-01   00:24:59.34552   5694   1.000       18.362    43.386   \n",
       "3071    2004-03-01  00:25:53.612508   5696   1.000       18.381    43.352   \n",
       "3072    2004-03-01  00:26:22.379146   5697   1.000       18.391    43.452   \n",
       "3073    2004-03-01  00:26:54.475448   5698   1.000       18.381    43.452   \n",
       "3074    2004-03-01  00:27:25.385599   5699   1.000       18.371    43.519   \n",
       "...            ...              ...    ...     ...          ...       ...   \n",
       "2313548 2004-03-31  20:19:53.815964  58009     nan          nan       nan   \n",
       "2313549 2004-03-31  20:25:58.769727  58019     nan          nan       nan   \n",
       "2313550 2004-03-31  20:28:54.172879  58026     nan          nan       nan   \n",
       "2313551 2004-03-31  20:34:46.727971  58038     nan          nan       nan   \n",
       "2313552 2004-03-31  20:37:45.962685  58043     nan          nan       nan   \n",
       "2313553 2004-03-31  20:40:46.089561  58050     nan          nan       nan   \n",
       "2313554 2004-03-31  20:43:46.576023  58055     nan          nan       nan   \n",
       "2313555 2004-03-31  20:46:46.544939  58060     nan          nan       nan   \n",
       "2313556 2004-03-31  20:49:46.784824  58061     nan          nan       nan   \n",
       "2313557 2004-03-31  20:52:46.935716  58062     nan          nan       nan   \n",
       "2313558 2004-03-31  20:58:47.011153  58064     nan          nan       nan   \n",
       "2313559 2004-03-31  21:01:46.946128  58065     nan          nan       nan   \n",
       "2313560 2004-03-31  21:04:49.354182  58066     nan          nan       nan   \n",
       "2313561 2004-03-31  21:13:51.914845  58069     nan          nan       nan   \n",
       "2313562 2004-03-31  21:16:58.641448  58070     nan          nan       nan   \n",
       "2313563 2004-03-31  21:19:51.997364  58071     nan          nan       nan   \n",
       "2313564 2004-03-31  21:22:56.175972  58072     nan          nan       nan   \n",
       "2313565 2004-03-31  21:31:58.562225  58075     nan          nan       nan   \n",
       "2313566 2004-03-31  21:34:56.488285  58076     nan          nan       nan   \n",
       "2313567 2004-03-31  21:37:56.604453  58077     nan          nan       nan   \n",
       "2313568 2004-03-31  21:40:54.135242  58078     nan          nan       nan   \n",
       "2313569 2004-03-31  21:43:56.548277  58079     nan          nan       nan   \n",
       "2313570 2004-03-31  21:58:58.699024  58083     nan          nan       nan   \n",
       "2313571 2004-03-31  22:01:56.513649  58084     nan          nan       nan   \n",
       "2313572 2004-03-31  22:04:56.679831  58085     nan          nan       nan   \n",
       "2313573 2004-03-31  22:08:00.757638  58086     nan          nan       nan   \n",
       "2313574 2004-03-31  22:10:56.473618  58087     nan          nan       nan   \n",
       "2313575 2004-03-31  22:22:58.808297  58090     nan          nan       nan   \n",
       "2313576 2004-03-31  22:26:00.155166  58091     nan          nan       nan   \n",
       "2313577 2004-03-31  22:34:54.382752  58093     nan          nan       nan   \n",
       "\n",
       "         light  voltage                   CovnHour  Hour   only_date  \n",
       "0       11.040    2.034 2018-03-08 03:38:15.757551     3  2004-03-31  \n",
       "2410    10.120    2.048 2018-03-08 03:22:19.705081     3  2004-03-31  \n",
       "2416    10.120    2.048 2018-03-08 03:26:15.556275     3  2004-03-31  \n",
       "2500     9.200    2.013 2018-03-08 04:31:15.650149     4  2004-03-31  \n",
       "2503     9.200    2.013 2018-03-08 04:35:02.327003     4  2004-03-31  \n",
       "2508     9.200    2.013 2018-03-08 04:38:45.982845     4  2004-03-31  \n",
       "2519     9.200    2.006 2018-03-08 04:49:51.673730     4  2004-03-31  \n",
       "2520     9.200    2.006 2018-03-08 04:50:21.140853     4  2004-03-31  \n",
       "2533     8.280    2.006 2018-03-08 04:59:46.620093     4  2004-03-31  \n",
       "3054    43.240    2.675 2018-03-08 00:01:57.130850     0  2004-03-01  \n",
       "3055    43.240    2.663 2018-03-08 00:02:50.458234     0  2004-03-01  \n",
       "3056    43.240    2.651 2018-03-08 00:04:26.606602     0  2004-03-01  \n",
       "3057    43.240    2.651 2018-03-08 00:05:28.379208     0  2004-03-01  \n",
       "3058    43.240    2.663 2018-03-08 00:05:50.456126     0  2004-03-01  \n",
       "3059    43.240    2.663 2018-03-08 00:09:26.667260     0  2004-03-01  \n",
       "3060    43.240    2.651 2018-03-08 00:09:50.555614     0  2004-03-01  \n",
       "3061    43.240    2.651 2018-03-08 00:10:21.292328     0  2004-03-01  \n",
       "3062    43.240    2.675 2018-03-08 00:13:51.235241     0  2004-03-01  \n",
       "3063    43.240    2.663 2018-03-08 00:18:26.373102     0  2004-03-01  \n",
       "3064    43.240    2.651 2018-03-08 00:18:50.532116     0  2004-03-01  \n",
       "3065    43.240    2.651 2018-03-08 00:19:55.653270     0  2004-03-01  \n",
       "3066    43.240    2.651 2018-03-08 00:20:51.038547     0  2004-03-01  \n",
       "3067    43.240    2.663 2018-03-08 00:22:21.258777     0  2004-03-01  \n",
       "3068    43.240    2.663 2018-03-08 00:22:50.505144     0  2004-03-01  \n",
       "3069    43.240    2.651 2018-03-08 00:24:20.373476     0  2004-03-01  \n",
       "3070    43.240    2.663 2018-03-08 00:24:59.345520     0  2004-03-01  \n",
       "3071    43.240    2.663 2018-03-08 00:25:53.612508     0  2004-03-01  \n",
       "3072    43.240    2.663 2018-03-08 00:26:22.379146     0  2004-03-01  \n",
       "3073    43.240    2.651 2018-03-08 00:26:54.475448     0  2004-03-01  \n",
       "3074    43.240    2.663 2018-03-08 00:27:25.385599     0  2004-03-01  \n",
       "...        ...      ...                        ...   ...         ...  \n",
       "2313548    nan      nan 2018-03-08 20:19:53.815964    20  2004-03-31  \n",
       "2313549    nan      nan 2018-03-08 20:25:58.769727    20  2004-03-31  \n",
       "2313550    nan      nan 2018-03-08 20:28:54.172879    20  2004-03-31  \n",
       "2313551    nan      nan 2018-03-08 20:34:46.727971    20  2004-03-31  \n",
       "2313552    nan      nan 2018-03-08 20:37:45.962685    20  2004-03-31  \n",
       "2313553    nan      nan 2018-03-08 20:40:46.089561    20  2004-03-31  \n",
       "2313554    nan      nan 2018-03-08 20:43:46.576023    20  2004-03-31  \n",
       "2313555    nan      nan 2018-03-08 20:46:46.544939    20  2004-03-31  \n",
       "2313556    nan      nan 2018-03-08 20:49:46.784824    20  2004-03-31  \n",
       "2313557    nan      nan 2018-03-08 20:52:46.935716    20  2004-03-31  \n",
       "2313558    nan      nan 2018-03-08 20:58:47.011153    20  2004-03-31  \n",
       "2313559    nan      nan 2018-03-08 21:01:46.946128    21  2004-03-31  \n",
       "2313560    nan      nan 2018-03-08 21:04:49.354182    21  2004-03-31  \n",
       "2313561    nan      nan 2018-03-08 21:13:51.914845    21  2004-03-31  \n",
       "2313562    nan      nan 2018-03-08 21:16:58.641448    21  2004-03-31  \n",
       "2313563    nan      nan 2018-03-08 21:19:51.997364    21  2004-03-31  \n",
       "2313564    nan      nan 2018-03-08 21:22:56.175972    21  2004-03-31  \n",
       "2313565    nan      nan 2018-03-08 21:31:58.562225    21  2004-03-31  \n",
       "2313566    nan      nan 2018-03-08 21:34:56.488285    21  2004-03-31  \n",
       "2313567    nan      nan 2018-03-08 21:37:56.604453    21  2004-03-31  \n",
       "2313568    nan      nan 2018-03-08 21:40:54.135242    21  2004-03-31  \n",
       "2313569    nan      nan 2018-03-08 21:43:56.548277    21  2004-03-31  \n",
       "2313570    nan      nan 2018-03-08 21:58:58.699024    21  2004-03-31  \n",
       "2313571    nan      nan 2018-03-08 22:01:56.513649    22  2004-03-31  \n",
       "2313572    nan      nan 2018-03-08 22:04:56.679831    22  2004-03-31  \n",
       "2313573    nan      nan 2018-03-08 22:08:00.757638    22  2004-03-31  \n",
       "2313574    nan      nan 2018-03-08 22:10:56.473618    22  2004-03-31  \n",
       "2313575    nan      nan 2018-03-08 22:22:58.808297    22  2004-03-31  \n",
       "2313576    nan      nan 2018-03-08 22:26:00.155166    22  2004-03-31  \n",
       "2313577    nan      nan 2018-03-08 22:34:54.382752    22  2004-03-31  \n",
       "\n",
       "[2098459 rows x 11 columns]"
      ]
     },
     "execution_count": 326,
     "metadata": {},
     "output_type": "execute_result"
    }
   ],
   "source": [
    "MarchData"
   ]
  },
  {
   "cell_type": "code",
   "execution_count": 330,
   "metadata": {
    "collapsed": true
   },
   "outputs": [],
   "source": [
    "copy_march = MarchData.copy()"
   ]
  },
  {
   "cell_type": "code",
   "execution_count": 332,
   "metadata": {},
   "outputs": [],
   "source": [
    "copy_march.dropna(inplace = True)"
   ]
  },
  {
   "cell_type": "code",
   "execution_count": 333,
   "metadata": {},
   "outputs": [
    {
     "data": {
      "text/plain": [
       "Date           0\n",
       "time           0\n",
       "epoch          0\n",
       "moteid         0\n",
       "temperature    0\n",
       "humidity       0\n",
       "light          0\n",
       "voltage        0\n",
       "CovnHour       0\n",
       "Hour           0\n",
       "only_date      0\n",
       "dtype: int64"
      ]
     },
     "execution_count": 333,
     "metadata": {},
     "output_type": "execute_result"
    }
   ],
   "source": [
    "copy_march.isnull().sum()"
   ]
  },
  {
   "cell_type": "code",
   "execution_count": 366,
   "metadata": {
    "scrolled": true
   },
   "outputs": [
    {
     "data": {
      "text/plain": [
       "31.000       61620\n",
       "29.000       58881\n",
       "23.000       55814\n",
       "26.000       55734\n",
       "22.000       55175\n",
       "21.000       53715\n",
       "48.000       52775\n",
       "36.000       52655\n",
       "47.000       52099\n",
       "24.000       51199\n",
       "7.000        48726\n",
       "45.000       48343\n",
       "46.000       48217\n",
       "35.000       47491\n",
       "25.000       47242\n",
       "34.000       44730\n",
       "9.000        44495\n",
       "44.000       44453\n",
       "38.000       43939\n",
       "2.000        43681\n",
       "3.000        43103\n",
       "37.000       42185\n",
       "28.000       41940\n",
       "10.000       41843\n",
       "40.000       41714\n",
       "32.000       41349\n",
       "42.000       41056\n",
       "1.000        40002\n",
       "4.000        39837\n",
       "51.000       38695\n",
       "             ...  \n",
       "49.000       38194\n",
       "43.000       37012\n",
       "19.000       36778\n",
       "30.000       36721\n",
       "41.000       36452\n",
       "27.000       35705\n",
       "33.000       33715\n",
       "6.000        33314\n",
       "54.000       32479\n",
       "16.000       31541\n",
       "52.000       31495\n",
       "17.000       31016\n",
       "18.000       30597\n",
       "13.000       29469\n",
       "14.000       29014\n",
       "39.000       28749\n",
       "53.000       25708\n",
       "20.000       24259\n",
       "12.000       21224\n",
       "8.000        13529\n",
       "50.000       13054\n",
       "58.000        2799\n",
       "55.000        2163\n",
       "56.000        1393\n",
       "15.000         799\n",
       "5.000           17\n",
       "57.000           3\n",
       "33117.000        1\n",
       "65407.000        1\n",
       "6485.000         1\n",
       "Name: moteid, Length: 61, dtype: int64"
      ]
     },
     "execution_count": 366,
     "metadata": {},
     "output_type": "execute_result"
    }
   ],
   "source": [
    "MarchData['moteid'].value_counts()"
   ]
  },
  {
   "cell_type": "code",
   "execution_count": 367,
   "metadata": {
    "collapsed": true
   },
   "outputs": [],
   "source": [
    "Mote31 = MarchData.loc[MarchData['moteid'] == 31.000]\n"
   ]
  },
  {
   "cell_type": "code",
   "execution_count": 369,
   "metadata": {},
   "outputs": [
    {
     "data": {
      "text/plain": [
       "(61620, 11)"
      ]
     },
     "execution_count": 369,
     "metadata": {},
     "output_type": "execute_result"
    }
   ],
   "source": [
    "Mote31.shape"
   ]
  },
  {
   "cell_type": "code",
   "execution_count": 371,
   "metadata": {},
   "outputs": [
    {
     "data": {
      "image/png": "[encoded data removed]",
      "text/plain": [
       "<matplotlib.figure.Figure at 0x2128f5172e8>"
      ]
     },
     "metadata": {},
     "output_type": "display_data"
    },
    {
     "data": {
      "image/png": "[encoded data removed]",
      "text/plain": [
       "<matplotlib.figure.Figure at 0x2128f7f8f98>"
      ]
     },
     "metadata": {},
     "output_type": "display_data"
    },
    {
     "data": {
      "image/png": "[encoded data removed]",
      "text/plain": [
       "<matplotlib.figure.Figure at 0x212a36cdcf8>"
      ]
     },
     "metadata": {},
     "output_type": "display_data"
    },
    {
     "data": {
      "image/png": "[encoded data removed]",
      "text/plain": [
       "<matplotlib.figure.Figure at 0x2128f486978>"
      ]
     },
     "metadata": {},
     "output_type": "display_data"
    }
   ],
   "source": [
    "df = Mote31.sort_values('Date', ascending=True)\n",
    "sns.set_style(\"darkgrid\")\n",
    "plt.plot(df['Date'], df['light'])\n",
    "plt.xticks(rotation='vertical')\n",
    "plt.title('light Variations in March',fontsize = 12)\n",
    "plt.xlabel('Days in March',fontsize = 12)\n",
    "plt.ylabel('light Values',fontsize = 12)\n",
    "plt.show()\n",
    "\n",
    "sns.set_style(\"darkgrid\")\n",
    "plt.plot(df['Date'], df['voltage'])\n",
    "plt.xticks(rotation='vertical')\n",
    "plt.title('Voltage Variations in March',fontsize = 12)\n",
    "plt.xlabel('Days in March',fontsize = 12)\n",
    "plt.ylabel('Voltage Values',fontsize = 12)\n",
    "plt.show()\n",
    "\n",
    "sns.set_style(\"darkgrid\")\n",
    "plt.plot(df['Date'], df['humidity'])\n",
    "plt.xticks(rotation='vertical')\n",
    "plt.title('Humidity Variations in March',fontsize = 12)\n",
    "plt.xlabel('Days in March',fontsize = 12)\n",
    "plt.ylabel('Humidity Values',fontsize = 12)\n",
    "plt.show()\n",
    "\n",
    "\n",
    "df = MarchData.sort_values('Date', ascending=True)\n",
    "sns.set_style(\"darkgrid\")\n",
    "plt.plot(df['Date'], df['temperature'])\n",
    "plt.xticks(rotation='vertical')\n",
    "plt.title('Temp Variations in March',fontsize = 12)\n",
    "plt.xlabel('Days in March',fontsize = 12)\n",
    "plt.ylabel('Temperature Values',fontsize = 12)\n",
    "plt.show()\n",
    "\n"
   ]
  },
  {
   "cell_type": "markdown",
   "metadata": {},
   "source": [
    "### Observations for mote 31 which has the largest number of recordings\n",
    "* Humidity is up and down with lots of peaks and crests. It falls off during the last 10 days in march\n",
    "* Voltage values drop with days in March\n",
    "* Peak outlier for temperature value is from this mote. There is almost a steady variation in temperature values\n",
    "* light variations looks similar with the overall variations observed before"
   ]
  },
  {
   "cell_type": "code",
   "execution_count": 372,
   "metadata": {},
   "outputs": [
    {
     "data": {
      "text/plain": [
       "Index(['Date', 'time', 'epoch', 'moteid', 'temperature', 'humidity', 'light',\n",
       "       'voltage', 'CovnHour', 'Hour', 'only_date'],\n",
       "      dtype='object')"
      ]
     },
     "execution_count": 372,
     "metadata": {},
     "output_type": "execute_result"
    }
   ],
   "source": [
    "Mote31.columns"
   ]
  },
  {
   "cell_type": "code",
   "execution_count": 391,
   "metadata": {},
   "outputs": [
    {
     "data": {
      "text/plain": [
       "Index(['Date', 'time', 'epoch', 'moteid', 'temperature', 'humidity', 'light',\n",
       "       'voltage', 'CovnHour', 'Hour', 'only_date'],\n",
       "      dtype='object')"
      ]
     },
     "execution_count": 391,
     "metadata": {},
     "output_type": "execute_result"
    }
   ],
   "source": [
    "Mote31.columns"
   ]
  },
  {
   "cell_type": "code",
   "execution_count": 395,
   "metadata": {},
   "outputs": [
    {
     "data": {
      "text/plain": [
       "<matplotlib.axes._subplots.AxesSubplot at 0x212d93eab00>"
      ]
     },
     "execution_count": 395,
     "metadata": {},
     "output_type": "execute_result"
    },
    {
     "data": {
      "image/png": "[encoded data removed]",
      "text/plain": [
       "<matplotlib.figure.Figure at 0x212d9379e80>"
      ]
     },
     "metadata": {},
     "output_type": "display_data"
    }
   ],
   "source": [
    "Heatmapseries = Mote31.groupby(['only_date','Hour'])[\"epoch\"].count()    \n",
    "Mote31heatmap = Heatmapseries.reset_index()\n",
    "Mote31heatmapPivot = Mote31heatmap.pivot('only_date','Hour','epoch')\n",
    "plt.figure(figsize=(12,6))\n",
    "sns.heatmap(Mote31heatmapPivot,cmap = 'Spectral')"
   ]
  },
  {
   "cell_type": "markdown",
   "metadata": {},
   "source": [
    "### Observations for mote 31\n",
    "* There are white patches on few days, for eg:2004-03-16 where there are no observations from 0 hours to 12 hours\n",
    "* During the last few days of march, the number of epochs is slightly reduced. It is very low on 2004-03-29\n",
    "* Peak observation count was between 10(th) hour to 16(th) hours on 2004-03-11"
   ]
  },
  {
   "cell_type": "code",
   "execution_count": 412,
   "metadata": {
    "collapsed": true
   },
   "outputs": [
    {
     "data": {
      "text/html": [
       "<div>\n",
       "<style>\n",
       "    .dataframe thead tr:only-child th {\n",
       "        text-align: right;\n",
       "    }\n",
       "\n",
       "    .dataframe thead th {\n",
       "        text-align: left;\n",
       "    }\n",
       "\n",
       "    .dataframe tbody tr th {\n",
       "        vertical-align: top;\n",
       "    }\n",
       "</style>\n",
       "<table border=\"1\" class=\"dataframe\">\n",
       "  <thead>\n",
       "    <tr style=\"text-align: right;\">\n",
       "      <th></th>\n",
       "      <th>only_date</th>\n",
       "      <th>Hour</th>\n",
       "      <th>epoch</th>\n",
       "    </tr>\n",
       "  </thead>\n",
       "  <tbody>\n",
       "    <tr>\n",
       "      <th>330</th>\n",
       "      <td>2004-03-16</td>\n",
       "      <td>11</td>\n",
       "      <td>48</td>\n",
       "    </tr>\n",
       "    <tr>\n",
       "      <th>331</th>\n",
       "      <td>2004-03-16</td>\n",
       "      <td>12</td>\n",
       "      <td>37</td>\n",
       "    </tr>\n",
       "    <tr>\n",
       "      <th>332</th>\n",
       "      <td>2004-03-16</td>\n",
       "      <td>13</td>\n",
       "      <td>77</td>\n",
       "    </tr>\n",
       "    <tr>\n",
       "      <th>333</th>\n",
       "      <td>2004-03-16</td>\n",
       "      <td>14</td>\n",
       "      <td>102</td>\n",
       "    </tr>\n",
       "    <tr>\n",
       "      <th>334</th>\n",
       "      <td>2004-03-16</td>\n",
       "      <td>15</td>\n",
       "      <td>93</td>\n",
       "    </tr>\n",
       "    <tr>\n",
       "      <th>335</th>\n",
       "      <td>2004-03-16</td>\n",
       "      <td>16</td>\n",
       "      <td>104</td>\n",
       "    </tr>\n",
       "    <tr>\n",
       "      <th>336</th>\n",
       "      <td>2004-03-16</td>\n",
       "      <td>17</td>\n",
       "      <td>102</td>\n",
       "    </tr>\n",
       "    <tr>\n",
       "      <th>337</th>\n",
       "      <td>2004-03-16</td>\n",
       "      <td>18</td>\n",
       "      <td>96</td>\n",
       "    </tr>\n",
       "    <tr>\n",
       "      <th>338</th>\n",
       "      <td>2004-03-16</td>\n",
       "      <td>19</td>\n",
       "      <td>105</td>\n",
       "    </tr>\n",
       "    <tr>\n",
       "      <th>339</th>\n",
       "      <td>2004-03-16</td>\n",
       "      <td>20</td>\n",
       "      <td>112</td>\n",
       "    </tr>\n",
       "    <tr>\n",
       "      <th>340</th>\n",
       "      <td>2004-03-16</td>\n",
       "      <td>21</td>\n",
       "      <td>103</td>\n",
       "    </tr>\n",
       "    <tr>\n",
       "      <th>341</th>\n",
       "      <td>2004-03-16</td>\n",
       "      <td>22</td>\n",
       "      <td>98</td>\n",
       "    </tr>\n",
       "    <tr>\n",
       "      <th>342</th>\n",
       "      <td>2004-03-16</td>\n",
       "      <td>23</td>\n",
       "      <td>103</td>\n",
       "    </tr>\n",
       "  </tbody>\n",
       "</table>\n",
       "</div>"
      ],
      "text/plain": [
       "      only_date  Hour  epoch\n",
       "330  2004-03-16    11     48\n",
       "331  2004-03-16    12     37\n",
       "332  2004-03-16    13     77\n",
       "333  2004-03-16    14    102\n",
       "334  2004-03-16    15     93\n",
       "335  2004-03-16    16    104\n",
       "336  2004-03-16    17    102\n",
       "337  2004-03-16    18     96\n",
       "338  2004-03-16    19    105\n",
       "339  2004-03-16    20    112\n",
       "340  2004-03-16    21    103\n",
       "341  2004-03-16    22     98\n",
       "342  2004-03-16    23    103"
      ]
     },
     "execution_count": 412,
     "metadata": {},
     "output_type": "execute_result"
    }
   ],
   "source": [
    "#To illustrate that the values are missing for hours before 11\n",
    "import datetime\n",
    "Mote31heatmap.loc[Mote31heatmap['only_date'] == datetime.date(2004, 3, 16)]"
   ]
  },
  {
   "cell_type": "code",
   "execution_count": 414,
   "metadata": {
    "collapsed": true
   },
   "outputs": [],
   "source": [
    "#Examining during the peak (10th hour to 16th hour) recordings on 2004-03-11"
   ]
  },
  {
   "cell_type": "code",
   "execution_count": 443,
   "metadata": {},
   "outputs": [],
   "source": [
    "PeakDF = MarchData.loc[(MarchData['only_date'] == datetime.date(2004, 3, 11)) & (MarchData['Hour'] >9) & (MarchData['Hour'] < 17)]"
   ]
  },
  {
   "cell_type": "code",
   "execution_count": 444,
   "metadata": {},
   "outputs": [],
   "source": [
    "PeakDF= PeakDF[['temperature','humidity','voltage','light','Hour']]"
   ]
  },
  {
   "cell_type": "code",
   "execution_count": 425,
   "metadata": {},
   "outputs": [
    {
     "data": {
      "text/plain": [
       "(26567, 5)"
      ]
     },
     "execution_count": 425,
     "metadata": {},
     "output_type": "execute_result"
    }
   ],
   "source": [
    "PeakDF.shape"
   ]
  },
  {
   "cell_type": "code",
   "execution_count": 437,
   "metadata": {},
   "outputs": [],
   "source": [
    "ValuesDuringTenthHour = PeakDF[PeakDF['Hour'] == 10]\n",
    "\n",
    "ValuesDuringTenthHour = ValuesDuringTenthHour[['temperature','light','voltage','humidity','epoch']]\n",
    "\n",
    "ValuesDuringTenthHour"
   ]
  },
  {
   "cell_type": "code",
   "execution_count": 441,
   "metadata": {
    "scrolled": true
   },
   "outputs": [
    {
     "data": {
      "text/html": [
       "<div>\n",
       "<style>\n",
       "    .dataframe thead tr:only-child th {\n",
       "        text-align: right;\n",
       "    }\n",
       "\n",
       "    .dataframe thead th {\n",
       "        text-align: left;\n",
       "    }\n",
       "\n",
       "    .dataframe tbody tr th {\n",
       "        vertical-align: top;\n",
       "    }\n",
       "</style>\n",
       "<table border=\"1\" class=\"dataframe\">\n",
       "  <thead>\n",
       "    <tr style=\"text-align: right;\">\n",
       "      <th></th>\n",
       "      <th>temperature</th>\n",
       "      <th>light</th>\n",
       "      <th>voltage</th>\n",
       "      <th>humidity</th>\n",
       "      <th>epoch</th>\n",
       "    </tr>\n",
       "  </thead>\n",
       "  <tbody>\n",
       "    <tr>\n",
       "      <th>24070</th>\n",
       "      <td>22.007</td>\n",
       "      <td>537.280</td>\n",
       "      <td>2.538</td>\n",
       "      <td>35.161</td>\n",
       "      <td>35645</td>\n",
       "    </tr>\n",
       "    <tr>\n",
       "      <th>24071</th>\n",
       "      <td>22.056</td>\n",
       "      <td>537.280</td>\n",
       "      <td>2.538</td>\n",
       "      <td>35.022</td>\n",
       "      <td>35646</td>\n",
       "    </tr>\n",
       "    <tr>\n",
       "      <th>24072</th>\n",
       "      <td>21.997</td>\n",
       "      <td>566.720</td>\n",
       "      <td>2.538</td>\n",
       "      <td>34.987</td>\n",
       "      <td>35647</td>\n",
       "    </tr>\n",
       "    <tr>\n",
       "      <th>24073</th>\n",
       "      <td>22.056</td>\n",
       "      <td>566.720</td>\n",
       "      <td>2.538</td>\n",
       "      <td>34.849</td>\n",
       "      <td>35648</td>\n",
       "    </tr>\n",
       "    <tr>\n",
       "      <th>24074</th>\n",
       "      <td>22.076</td>\n",
       "      <td>566.720</td>\n",
       "      <td>2.527</td>\n",
       "      <td>35.196</td>\n",
       "      <td>35649</td>\n",
       "    </tr>\n",
       "    <tr>\n",
       "      <th>24075</th>\n",
       "      <td>22.056</td>\n",
       "      <td>566.720</td>\n",
       "      <td>2.538</td>\n",
       "      <td>35.161</td>\n",
       "      <td>35650</td>\n",
       "    </tr>\n",
       "    <tr>\n",
       "      <th>24076</th>\n",
       "      <td>22.046</td>\n",
       "      <td>566.720</td>\n",
       "      <td>2.527</td>\n",
       "      <td>35.092</td>\n",
       "      <td>35651</td>\n",
       "    </tr>\n",
       "    <tr>\n",
       "      <th>24077</th>\n",
       "      <td>22.066</td>\n",
       "      <td>566.720</td>\n",
       "      <td>2.527</td>\n",
       "      <td>35.022</td>\n",
       "      <td>35652</td>\n",
       "    </tr>\n",
       "    <tr>\n",
       "      <th>24078</th>\n",
       "      <td>21.997</td>\n",
       "      <td>566.720</td>\n",
       "      <td>2.538</td>\n",
       "      <td>35.022</td>\n",
       "      <td>35653</td>\n",
       "    </tr>\n",
       "    <tr>\n",
       "      <th>24079</th>\n",
       "      <td>21.988</td>\n",
       "      <td>566.720</td>\n",
       "      <td>2.538</td>\n",
       "      <td>35.092</td>\n",
       "      <td>35654</td>\n",
       "    </tr>\n",
       "    <tr>\n",
       "      <th>24080</th>\n",
       "      <td>21.929</td>\n",
       "      <td>566.720</td>\n",
       "      <td>2.538</td>\n",
       "      <td>35.196</td>\n",
       "      <td>35655</td>\n",
       "    </tr>\n",
       "    <tr>\n",
       "      <th>24081</th>\n",
       "      <td>21.968</td>\n",
       "      <td>566.720</td>\n",
       "      <td>2.527</td>\n",
       "      <td>35.369</td>\n",
       "      <td>35656</td>\n",
       "    </tr>\n",
       "    <tr>\n",
       "      <th>24082</th>\n",
       "      <td>22.007</td>\n",
       "      <td>566.720</td>\n",
       "      <td>2.538</td>\n",
       "      <td>35.126</td>\n",
       "      <td>35658</td>\n",
       "    </tr>\n",
       "    <tr>\n",
       "      <th>24083</th>\n",
       "      <td>21.997</td>\n",
       "      <td>566.720</td>\n",
       "      <td>2.538</td>\n",
       "      <td>34.918</td>\n",
       "      <td>35659</td>\n",
       "    </tr>\n",
       "    <tr>\n",
       "      <th>24084</th>\n",
       "      <td>22.007</td>\n",
       "      <td>566.720</td>\n",
       "      <td>2.538</td>\n",
       "      <td>34.953</td>\n",
       "      <td>35660</td>\n",
       "    </tr>\n",
       "    <tr>\n",
       "      <th>24085</th>\n",
       "      <td>21.997</td>\n",
       "      <td>566.720</td>\n",
       "      <td>2.538</td>\n",
       "      <td>35.300</td>\n",
       "      <td>35661</td>\n",
       "    </tr>\n",
       "    <tr>\n",
       "      <th>24087</th>\n",
       "      <td>21.997</td>\n",
       "      <td>566.720</td>\n",
       "      <td>2.538</td>\n",
       "      <td>35.369</td>\n",
       "      <td>35662</td>\n",
       "    </tr>\n",
       "    <tr>\n",
       "      <th>24088</th>\n",
       "      <td>21.939</td>\n",
       "      <td>566.720</td>\n",
       "      <td>2.527</td>\n",
       "      <td>35.438</td>\n",
       "      <td>35663</td>\n",
       "    </tr>\n",
       "    <tr>\n",
       "      <th>24089</th>\n",
       "      <td>21.958</td>\n",
       "      <td>566.720</td>\n",
       "      <td>2.538</td>\n",
       "      <td>35.300</td>\n",
       "      <td>35664</td>\n",
       "    </tr>\n",
       "    <tr>\n",
       "      <th>24090</th>\n",
       "      <td>21.978</td>\n",
       "      <td>566.720</td>\n",
       "      <td>2.538</td>\n",
       "      <td>35.369</td>\n",
       "      <td>35665</td>\n",
       "    </tr>\n",
       "    <tr>\n",
       "      <th>24091</th>\n",
       "      <td>21.978</td>\n",
       "      <td>566.720</td>\n",
       "      <td>2.538</td>\n",
       "      <td>35.300</td>\n",
       "      <td>35666</td>\n",
       "    </tr>\n",
       "    <tr>\n",
       "      <th>24092</th>\n",
       "      <td>21.929</td>\n",
       "      <td>566.720</td>\n",
       "      <td>2.538</td>\n",
       "      <td>35.507</td>\n",
       "      <td>35667</td>\n",
       "    </tr>\n",
       "    <tr>\n",
       "      <th>24093</th>\n",
       "      <td>21.939</td>\n",
       "      <td>566.720</td>\n",
       "      <td>2.538</td>\n",
       "      <td>35.542</td>\n",
       "      <td>35668</td>\n",
       "    </tr>\n",
       "    <tr>\n",
       "      <th>24094</th>\n",
       "      <td>21.978</td>\n",
       "      <td>566.720</td>\n",
       "      <td>2.538</td>\n",
       "      <td>35.646</td>\n",
       "      <td>35669</td>\n",
       "    </tr>\n",
       "    <tr>\n",
       "      <th>24095</th>\n",
       "      <td>22.007</td>\n",
       "      <td>566.720</td>\n",
       "      <td>2.538</td>\n",
       "      <td>35.438</td>\n",
       "      <td>35670</td>\n",
       "    </tr>\n",
       "    <tr>\n",
       "      <th>24097</th>\n",
       "      <td>22.017</td>\n",
       "      <td>566.720</td>\n",
       "      <td>2.538</td>\n",
       "      <td>35.300</td>\n",
       "      <td>35671</td>\n",
       "    </tr>\n",
       "    <tr>\n",
       "      <th>24098</th>\n",
       "      <td>21.988</td>\n",
       "      <td>566.720</td>\n",
       "      <td>2.538</td>\n",
       "      <td>35.230</td>\n",
       "      <td>35672</td>\n",
       "    </tr>\n",
       "    <tr>\n",
       "      <th>24099</th>\n",
       "      <td>21.831</td>\n",
       "      <td>566.720</td>\n",
       "      <td>2.538</td>\n",
       "      <td>35.680</td>\n",
       "      <td>35673</td>\n",
       "    </tr>\n",
       "    <tr>\n",
       "      <th>24100</th>\n",
       "      <td>21.831</td>\n",
       "      <td>566.720</td>\n",
       "      <td>2.527</td>\n",
       "      <td>35.611</td>\n",
       "      <td>35674</td>\n",
       "    </tr>\n",
       "    <tr>\n",
       "      <th>24101</th>\n",
       "      <td>21.772</td>\n",
       "      <td>566.720</td>\n",
       "      <td>2.527</td>\n",
       "      <td>35.715</td>\n",
       "      <td>35675</td>\n",
       "    </tr>\n",
       "    <tr>\n",
       "      <th>...</th>\n",
       "      <td>...</td>\n",
       "      <td>...</td>\n",
       "      <td>...</td>\n",
       "      <td>...</td>\n",
       "      <td>...</td>\n",
       "    </tr>\n",
       "    <tr>\n",
       "      <th>2287015</th>\n",
       "      <td>23.624</td>\n",
       "      <td>1847.360</td>\n",
       "      <td>2.538</td>\n",
       "      <td>31.948</td>\n",
       "      <td>35727</td>\n",
       "    </tr>\n",
       "    <tr>\n",
       "      <th>2287016</th>\n",
       "      <td>23.614</td>\n",
       "      <td>1847.360</td>\n",
       "      <td>2.538</td>\n",
       "      <td>31.983</td>\n",
       "      <td>35728</td>\n",
       "    </tr>\n",
       "    <tr>\n",
       "      <th>2287017</th>\n",
       "      <td>23.624</td>\n",
       "      <td>1847.360</td>\n",
       "      <td>2.538</td>\n",
       "      <td>31.948</td>\n",
       "      <td>35729</td>\n",
       "    </tr>\n",
       "    <tr>\n",
       "      <th>2287018</th>\n",
       "      <td>23.614</td>\n",
       "      <td>1847.360</td>\n",
       "      <td>2.527</td>\n",
       "      <td>31.948</td>\n",
       "      <td>35730</td>\n",
       "    </tr>\n",
       "    <tr>\n",
       "      <th>2287019</th>\n",
       "      <td>23.634</td>\n",
       "      <td>1847.360</td>\n",
       "      <td>2.538</td>\n",
       "      <td>31.948</td>\n",
       "      <td>35731</td>\n",
       "    </tr>\n",
       "    <tr>\n",
       "      <th>2287020</th>\n",
       "      <td>23.614</td>\n",
       "      <td>1847.360</td>\n",
       "      <td>2.538</td>\n",
       "      <td>31.983</td>\n",
       "      <td>35732</td>\n",
       "    </tr>\n",
       "    <tr>\n",
       "      <th>2287021</th>\n",
       "      <td>23.624</td>\n",
       "      <td>1847.360</td>\n",
       "      <td>2.538</td>\n",
       "      <td>31.948</td>\n",
       "      <td>35733</td>\n",
       "    </tr>\n",
       "    <tr>\n",
       "      <th>2287022</th>\n",
       "      <td>23.605</td>\n",
       "      <td>1847.360</td>\n",
       "      <td>2.538</td>\n",
       "      <td>32.018</td>\n",
       "      <td>35734</td>\n",
       "    </tr>\n",
       "    <tr>\n",
       "      <th>2287023</th>\n",
       "      <td>23.644</td>\n",
       "      <td>1847.360</td>\n",
       "      <td>2.527</td>\n",
       "      <td>31.948</td>\n",
       "      <td>35735</td>\n",
       "    </tr>\n",
       "    <tr>\n",
       "      <th>2287024</th>\n",
       "      <td>23.585</td>\n",
       "      <td>1847.360</td>\n",
       "      <td>2.538</td>\n",
       "      <td>31.983</td>\n",
       "      <td>35736</td>\n",
       "    </tr>\n",
       "    <tr>\n",
       "      <th>2287025</th>\n",
       "      <td>23.614</td>\n",
       "      <td>1847.360</td>\n",
       "      <td>2.527</td>\n",
       "      <td>32.018</td>\n",
       "      <td>35737</td>\n",
       "    </tr>\n",
       "    <tr>\n",
       "      <th>2287026</th>\n",
       "      <td>23.585</td>\n",
       "      <td>1847.360</td>\n",
       "      <td>2.527</td>\n",
       "      <td>32.089</td>\n",
       "      <td>35738</td>\n",
       "    </tr>\n",
       "    <tr>\n",
       "      <th>2287027</th>\n",
       "      <td>23.575</td>\n",
       "      <td>1847.360</td>\n",
       "      <td>2.538</td>\n",
       "      <td>32.159</td>\n",
       "      <td>35741</td>\n",
       "    </tr>\n",
       "    <tr>\n",
       "      <th>2287028</th>\n",
       "      <td>23.556</td>\n",
       "      <td>1847.360</td>\n",
       "      <td>2.538</td>\n",
       "      <td>32.159</td>\n",
       "      <td>35743</td>\n",
       "    </tr>\n",
       "    <tr>\n",
       "      <th>2287029</th>\n",
       "      <td>23.546</td>\n",
       "      <td>1847.360</td>\n",
       "      <td>2.538</td>\n",
       "      <td>32.229</td>\n",
       "      <td>35744</td>\n",
       "    </tr>\n",
       "    <tr>\n",
       "      <th>2287031</th>\n",
       "      <td>23.556</td>\n",
       "      <td>1847.360</td>\n",
       "      <td>2.538</td>\n",
       "      <td>32.229</td>\n",
       "      <td>35746</td>\n",
       "    </tr>\n",
       "    <tr>\n",
       "      <th>2287032</th>\n",
       "      <td>23.565</td>\n",
       "      <td>1847.360</td>\n",
       "      <td>2.527</td>\n",
       "      <td>32.229</td>\n",
       "      <td>35747</td>\n",
       "    </tr>\n",
       "    <tr>\n",
       "      <th>2287033</th>\n",
       "      <td>23.526</td>\n",
       "      <td>1847.360</td>\n",
       "      <td>2.527</td>\n",
       "      <td>32.229</td>\n",
       "      <td>35748</td>\n",
       "    </tr>\n",
       "    <tr>\n",
       "      <th>2287034</th>\n",
       "      <td>23.556</td>\n",
       "      <td>1847.360</td>\n",
       "      <td>2.527</td>\n",
       "      <td>32.229</td>\n",
       "      <td>35749</td>\n",
       "    </tr>\n",
       "    <tr>\n",
       "      <th>2287035</th>\n",
       "      <td>23.556</td>\n",
       "      <td>1847.360</td>\n",
       "      <td>2.527</td>\n",
       "      <td>32.229</td>\n",
       "      <td>35751</td>\n",
       "    </tr>\n",
       "    <tr>\n",
       "      <th>2287036</th>\n",
       "      <td>23.516</td>\n",
       "      <td>1847.360</td>\n",
       "      <td>2.538</td>\n",
       "      <td>32.264</td>\n",
       "      <td>35752</td>\n",
       "    </tr>\n",
       "    <tr>\n",
       "      <th>2287037</th>\n",
       "      <td>23.546</td>\n",
       "      <td>1847.360</td>\n",
       "      <td>2.538</td>\n",
       "      <td>32.229</td>\n",
       "      <td>35753</td>\n",
       "    </tr>\n",
       "    <tr>\n",
       "      <th>2287039</th>\n",
       "      <td>23.546</td>\n",
       "      <td>1847.360</td>\n",
       "      <td>2.538</td>\n",
       "      <td>32.229</td>\n",
       "      <td>35755</td>\n",
       "    </tr>\n",
       "    <tr>\n",
       "      <th>2287040</th>\n",
       "      <td>23.516</td>\n",
       "      <td>1847.360</td>\n",
       "      <td>2.538</td>\n",
       "      <td>32.300</td>\n",
       "      <td>35756</td>\n",
       "    </tr>\n",
       "    <tr>\n",
       "      <th>2287041</th>\n",
       "      <td>23.546</td>\n",
       "      <td>1847.360</td>\n",
       "      <td>2.538</td>\n",
       "      <td>32.300</td>\n",
       "      <td>35757</td>\n",
       "    </tr>\n",
       "    <tr>\n",
       "      <th>2287042</th>\n",
       "      <td>23.516</td>\n",
       "      <td>1847.360</td>\n",
       "      <td>2.538</td>\n",
       "      <td>32.335</td>\n",
       "      <td>35758</td>\n",
       "    </tr>\n",
       "    <tr>\n",
       "      <th>2287043</th>\n",
       "      <td>23.536</td>\n",
       "      <td>1847.360</td>\n",
       "      <td>2.538</td>\n",
       "      <td>32.300</td>\n",
       "      <td>35759</td>\n",
       "    </tr>\n",
       "    <tr>\n",
       "      <th>2287044</th>\n",
       "      <td>23.516</td>\n",
       "      <td>1847.360</td>\n",
       "      <td>2.527</td>\n",
       "      <td>32.370</td>\n",
       "      <td>35760</td>\n",
       "    </tr>\n",
       "    <tr>\n",
       "      <th>2287045</th>\n",
       "      <td>23.526</td>\n",
       "      <td>1847.360</td>\n",
       "      <td>2.538</td>\n",
       "      <td>32.300</td>\n",
       "      <td>35761</td>\n",
       "    </tr>\n",
       "    <tr>\n",
       "      <th>2287046</th>\n",
       "      <td>23.516</td>\n",
       "      <td>1847.360</td>\n",
       "      <td>2.527</td>\n",
       "      <td>32.370</td>\n",
       "      <td>35762</td>\n",
       "    </tr>\n",
       "  </tbody>\n",
       "</table>\n",
       "<p>3743 rows × 5 columns</p>\n",
       "</div>"
      ],
      "text/plain": [
       "         temperature    light  voltage  humidity  epoch\n",
       "24070         22.007  537.280    2.538    35.161  35645\n",
       "24071         22.056  537.280    2.538    35.022  35646\n",
       "24072         21.997  566.720    2.538    34.987  35647\n",
       "24073         22.056  566.720    2.538    34.849  35648\n",
       "24074         22.076  566.720    2.527    35.196  35649\n",
       "24075         22.056  566.720    2.538    35.161  35650\n",
       "24076         22.046  566.720    2.527    35.092  35651\n",
       "24077         22.066  566.720    2.527    35.022  35652\n",
       "24078         21.997  566.720    2.538    35.022  35653\n",
       "24079         21.988  566.720    2.538    35.092  35654\n",
       "24080         21.929  566.720    2.538    35.196  35655\n",
       "24081         21.968  566.720    2.527    35.369  35656\n",
       "24082         22.007  566.720    2.538    35.126  35658\n",
       "24083         21.997  566.720    2.538    34.918  35659\n",
       "24084         22.007  566.720    2.538    34.953  35660\n",
       "24085         21.997  566.720    2.538    35.300  35661\n",
       "24087         21.997  566.720    2.538    35.369  35662\n",
       "24088         21.939  566.720    2.527    35.438  35663\n",
       "24089         21.958  566.720    2.538    35.300  35664\n",
       "24090         21.978  566.720    2.538    35.369  35665\n",
       "24091         21.978  566.720    2.538    35.300  35666\n",
       "24092         21.929  566.720    2.538    35.507  35667\n",
       "24093         21.939  566.720    2.538    35.542  35668\n",
       "24094         21.978  566.720    2.538    35.646  35669\n",
       "24095         22.007  566.720    2.538    35.438  35670\n",
       "24097         22.017  566.720    2.538    35.300  35671\n",
       "24098         21.988  566.720    2.538    35.230  35672\n",
       "24099         21.831  566.720    2.538    35.680  35673\n",
       "24100         21.831  566.720    2.527    35.611  35674\n",
       "24101         21.772  566.720    2.527    35.715  35675\n",
       "...              ...      ...      ...       ...    ...\n",
       "2287015       23.624 1847.360    2.538    31.948  35727\n",
       "2287016       23.614 1847.360    2.538    31.983  35728\n",
       "2287017       23.624 1847.360    2.538    31.948  35729\n",
       "2287018       23.614 1847.360    2.527    31.948  35730\n",
       "2287019       23.634 1847.360    2.538    31.948  35731\n",
       "2287020       23.614 1847.360    2.538    31.983  35732\n",
       "2287021       23.624 1847.360    2.538    31.948  35733\n",
       "2287022       23.605 1847.360    2.538    32.018  35734\n",
       "2287023       23.644 1847.360    2.527    31.948  35735\n",
       "2287024       23.585 1847.360    2.538    31.983  35736\n",
       "2287025       23.614 1847.360    2.527    32.018  35737\n",
       "2287026       23.585 1847.360    2.527    32.089  35738\n",
       "2287027       23.575 1847.360    2.538    32.159  35741\n",
       "2287028       23.556 1847.360    2.538    32.159  35743\n",
       "2287029       23.546 1847.360    2.538    32.229  35744\n",
       "2287031       23.556 1847.360    2.538    32.229  35746\n",
       "2287032       23.565 1847.360    2.527    32.229  35747\n",
       "2287033       23.526 1847.360    2.527    32.229  35748\n",
       "2287034       23.556 1847.360    2.527    32.229  35749\n",
       "2287035       23.556 1847.360    2.527    32.229  35751\n",
       "2287036       23.516 1847.360    2.538    32.264  35752\n",
       "2287037       23.546 1847.360    2.538    32.229  35753\n",
       "2287039       23.546 1847.360    2.538    32.229  35755\n",
       "2287040       23.516 1847.360    2.538    32.300  35756\n",
       "2287041       23.546 1847.360    2.538    32.300  35757\n",
       "2287042       23.516 1847.360    2.538    32.335  35758\n",
       "2287043       23.536 1847.360    2.538    32.300  35759\n",
       "2287044       23.516 1847.360    2.527    32.370  35760\n",
       "2287045       23.526 1847.360    2.538    32.300  35761\n",
       "2287046       23.516 1847.360    2.527    32.370  35762\n",
       "\n",
       "[3743 rows x 5 columns]"
      ]
     },
     "execution_count": 441,
     "metadata": {},
     "output_type": "execute_result"
    }
   ],
   "source": [
    "ValuesDuringTenthHour"
   ]
  },
  {
   "cell_type": "code",
   "execution_count": 450,
   "metadata": {},
   "outputs": [
    {
     "data": {
      "image/png": "[encoded data removed]",
      "text/plain": [
       "<matplotlib.figure.Figure at 0x212cd849668>"
      ]
     },
     "metadata": {},
     "output_type": "display_data"
    },
    {
     "data": {
      "image/png": "[encoded data removed]",
      "text/plain": [
       "<matplotlib.figure.Figure at 0x212cd44e5c0>"
      ]
     },
     "metadata": {},
     "output_type": "display_data"
    },
    {
     "data": {
      "image/png": "[encoded data removed]",
      "text/plain": [
       "<matplotlib.figure.Figure at 0x212cd9323c8>"
      ]
     },
     "metadata": {},
     "output_type": "display_data"
    },
    {
     "data": {
      "image/png": "[encoded data removed]",
      "text/plain": [
       "<matplotlib.figure.Figure at 0x212cd9bf5f8>"
      ]
     },
     "metadata": {},
     "output_type": "display_data"
    }
   ],
   "source": [
    "df = ValuesDuringTenthHour.sort_values('epoch', ascending=True)\n",
    "sns.set_style(\"darkgrid\")\n",
    "plt.plot(df['v'], df['light'])\n",
    "plt.xticks(rotation='vertical')\n",
    "plt.title('light Variations in peak time',fontsize = 12)\n",
    "plt.xlabel('Epoch#',fontsize = 12)\n",
    "plt.ylabel('light Values',fontsize = 12)\n",
    "plt.show()\n",
    "\n",
    "sns.set_style(\"darkgrid\")\n",
    "plt.plot(df['epoch'], df['voltage'])\n",
    "plt.xticks(rotation='vertical')\n",
    "plt.title('Voltage Variations in peak time',fontsize = 12)\n",
    "plt.xlabel('Epoch#',fontsize = 12)\n",
    "plt.ylabel('Voltage Values',fontsize = 12)\n",
    "plt.show()\n",
    "\n",
    "sns.set_style(\"darkgrid\")\n",
    "plt.plot(df['epoch'], df['humidity'])\n",
    "plt.xticks(rotation='vertical')\n",
    "plt.title('Humidity Variations in March',fontsize = 12)\n",
    "plt.xlabel('Epoch#',fontsize = 12)\n",
    "plt.ylabel('Humidity Values',fontsize = 12)\n",
    "plt.show()\n",
    "\n",
    "sns.set_style(\"darkgrid\")\n",
    "plt.plot(df['epoch'], df['temperature'])\n",
    "plt.xticks(rotation='vertical')\n",
    "plt.title('Temp Variations in peak time',fontsize = 12)\n",
    "plt.xlabel('Epoch#',fontsize = 12)\n",
    "plt.ylabel('Temperature Values',fontsize = 12)\n",
    "plt.show()"
   ]
  },
  {
   "cell_type": "markdown",
   "metadata": {},
   "source": [
    "* With time(epoch) in the tenth hour, light  and humidity decreases whereas temp and voltage increases"
   ]
  },
  {
   "cell_type": "code",
   "execution_count": null,
   "metadata": {},
   "outputs": [],
   "source": [
    "# sns.swarmplot(x=\"Hour\", y=\"temperature\", data=PeakDF)"
   ]
  },
  {
   "cell_type": "code",
   "execution_count": null,
   "metadata": {
    "collapsed": true
   },
   "outputs": [],
   "source": []
  }
 ],
 "metadata": {
  "kernelspec": {
   "display_name": "Python 3",
   "language": "python",
   "name": "python3"
  },
  "language_info": {
   "codemirror_mode": {
    "name": "ipython",
    "version": 3
   },
   "file_extension": ".py",
   "mimetype": "text/x-python",
   "name": "python",
   "nbconvert_exporter": "python",
   "pygments_lexer": "ipython3",
   "version": "3.5.4"
  }
 },
 "nbformat": 4,
 "nbformat_minor": 2
}
